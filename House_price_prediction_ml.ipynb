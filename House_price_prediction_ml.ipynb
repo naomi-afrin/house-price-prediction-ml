{
  "nbformat": 4,
  "nbformat_minor": 0,
  "metadata": {
    "colab": {
      "provenance": []
    },
    "kernelspec": {
      "name": "python3",
      "display_name": "Python 3"
    },
    "language_info": {
      "name": "python"
    }
  },
  "cells": [
    {
      "cell_type": "code",
      "source": [
        "import pandas as pd\n",
        "import numpy as np"
      ],
      "metadata": {
        "id": "73SRPGiHhPtL"
      },
      "execution_count": 2,
      "outputs": []
    },
    {
      "cell_type": "code",
      "source": [
        "# Task-1: Removing Null Values\n",
        "house = pd.read_csv('/content/sample_data/Housing Price Prediction Data.csv')\n",
        "house.head(3)"
      ],
      "metadata": {
        "colab": {
          "base_uri": "https://localhost:8080/",
          "height": 143
        },
        "id": "qKc0QWjEhKuM",
        "outputId": "3ec02e84-cea8-489e-c750-856fff67a455"
      },
      "execution_count": 3,
      "outputs": [
        {
          "output_type": "execute_result",
          "data": {
            "text/plain": [
              "   SquareFeet  Bedrooms  Bathrooms Neighborhood  YearBuilt        Price\n",
              "0        2126       4.0          1        Rural       1969  215355.2836\n",
              "1        2459       3.0          2        Rural       1980  195014.2216\n",
              "2        1860       2.0          1       Suburb       1970  306891.0121"
            ],
            "text/html": [
              "\n",
              "  <div id=\"df-e66a83aa-385f-4aee-aa66-8b65453fdeba\" class=\"colab-df-container\">\n",
              "    <div>\n",
              "<style scoped>\n",
              "    .dataframe tbody tr th:only-of-type {\n",
              "        vertical-align: middle;\n",
              "    }\n",
              "\n",
              "    .dataframe tbody tr th {\n",
              "        vertical-align: top;\n",
              "    }\n",
              "\n",
              "    .dataframe thead th {\n",
              "        text-align: right;\n",
              "    }\n",
              "</style>\n",
              "<table border=\"1\" class=\"dataframe\">\n",
              "  <thead>\n",
              "    <tr style=\"text-align: right;\">\n",
              "      <th></th>\n",
              "      <th>SquareFeet</th>\n",
              "      <th>Bedrooms</th>\n",
              "      <th>Bathrooms</th>\n",
              "      <th>Neighborhood</th>\n",
              "      <th>YearBuilt</th>\n",
              "      <th>Price</th>\n",
              "    </tr>\n",
              "  </thead>\n",
              "  <tbody>\n",
              "    <tr>\n",
              "      <th>0</th>\n",
              "      <td>2126</td>\n",
              "      <td>4.0</td>\n",
              "      <td>1</td>\n",
              "      <td>Rural</td>\n",
              "      <td>1969</td>\n",
              "      <td>215355.2836</td>\n",
              "    </tr>\n",
              "    <tr>\n",
              "      <th>1</th>\n",
              "      <td>2459</td>\n",
              "      <td>3.0</td>\n",
              "      <td>2</td>\n",
              "      <td>Rural</td>\n",
              "      <td>1980</td>\n",
              "      <td>195014.2216</td>\n",
              "    </tr>\n",
              "    <tr>\n",
              "      <th>2</th>\n",
              "      <td>1860</td>\n",
              "      <td>2.0</td>\n",
              "      <td>1</td>\n",
              "      <td>Suburb</td>\n",
              "      <td>1970</td>\n",
              "      <td>306891.0121</td>\n",
              "    </tr>\n",
              "  </tbody>\n",
              "</table>\n",
              "</div>\n",
              "    <div class=\"colab-df-buttons\">\n",
              "\n",
              "  <div class=\"colab-df-container\">\n",
              "    <button class=\"colab-df-convert\" onclick=\"convertToInteractive('df-e66a83aa-385f-4aee-aa66-8b65453fdeba')\"\n",
              "            title=\"Convert this dataframe to an interactive table.\"\n",
              "            style=\"display:none;\">\n",
              "\n",
              "  <svg xmlns=\"http://www.w3.org/2000/svg\" height=\"24px\" viewBox=\"0 -960 960 960\">\n",
              "    <path d=\"M120-120v-720h720v720H120Zm60-500h600v-160H180v160Zm220 220h160v-160H400v160Zm0 220h160v-160H400v160ZM180-400h160v-160H180v160Zm440 0h160v-160H620v160ZM180-180h160v-160H180v160Zm440 0h160v-160H620v160Z\"/>\n",
              "  </svg>\n",
              "    </button>\n",
              "\n",
              "  <style>\n",
              "    .colab-df-container {\n",
              "      display:flex;\n",
              "      gap: 12px;\n",
              "    }\n",
              "\n",
              "    .colab-df-convert {\n",
              "      background-color: #E8F0FE;\n",
              "      border: none;\n",
              "      border-radius: 50%;\n",
              "      cursor: pointer;\n",
              "      display: none;\n",
              "      fill: #1967D2;\n",
              "      height: 32px;\n",
              "      padding: 0 0 0 0;\n",
              "      width: 32px;\n",
              "    }\n",
              "\n",
              "    .colab-df-convert:hover {\n",
              "      background-color: #E2EBFA;\n",
              "      box-shadow: 0px 1px 2px rgba(60, 64, 67, 0.3), 0px 1px 3px 1px rgba(60, 64, 67, 0.15);\n",
              "      fill: #174EA6;\n",
              "    }\n",
              "\n",
              "    .colab-df-buttons div {\n",
              "      margin-bottom: 4px;\n",
              "    }\n",
              "\n",
              "    [theme=dark] .colab-df-convert {\n",
              "      background-color: #3B4455;\n",
              "      fill: #D2E3FC;\n",
              "    }\n",
              "\n",
              "    [theme=dark] .colab-df-convert:hover {\n",
              "      background-color: #434B5C;\n",
              "      box-shadow: 0px 1px 3px 1px rgba(0, 0, 0, 0.15);\n",
              "      filter: drop-shadow(0px 1px 2px rgba(0, 0, 0, 0.3));\n",
              "      fill: #FFFFFF;\n",
              "    }\n",
              "  </style>\n",
              "\n",
              "    <script>\n",
              "      const buttonEl =\n",
              "        document.querySelector('#df-e66a83aa-385f-4aee-aa66-8b65453fdeba button.colab-df-convert');\n",
              "      buttonEl.style.display =\n",
              "        google.colab.kernel.accessAllowed ? 'block' : 'none';\n",
              "\n",
              "      async function convertToInteractive(key) {\n",
              "        const element = document.querySelector('#df-e66a83aa-385f-4aee-aa66-8b65453fdeba');\n",
              "        const dataTable =\n",
              "          await google.colab.kernel.invokeFunction('convertToInteractive',\n",
              "                                                    [key], {});\n",
              "        if (!dataTable) return;\n",
              "\n",
              "        const docLinkHtml = 'Like what you see? Visit the ' +\n",
              "          '<a target=\"_blank\" href=https://colab.research.google.com/notebooks/data_table.ipynb>data table notebook</a>'\n",
              "          + ' to learn more about interactive tables.';\n",
              "        element.innerHTML = '';\n",
              "        dataTable['output_type'] = 'display_data';\n",
              "        await google.colab.output.renderOutput(dataTable, element);\n",
              "        const docLink = document.createElement('div');\n",
              "        docLink.innerHTML = docLinkHtml;\n",
              "        element.appendChild(docLink);\n",
              "      }\n",
              "    </script>\n",
              "  </div>\n",
              "\n",
              "\n",
              "<div id=\"df-7a4196a0-90d9-40e5-90f4-b341a9b93748\">\n",
              "  <button class=\"colab-df-quickchart\" onclick=\"quickchart('df-7a4196a0-90d9-40e5-90f4-b341a9b93748')\"\n",
              "            title=\"Suggest charts\"\n",
              "            style=\"display:none;\">\n",
              "\n",
              "<svg xmlns=\"http://www.w3.org/2000/svg\" height=\"24px\"viewBox=\"0 0 24 24\"\n",
              "     width=\"24px\">\n",
              "    <g>\n",
              "        <path d=\"M19 3H5c-1.1 0-2 .9-2 2v14c0 1.1.9 2 2 2h14c1.1 0 2-.9 2-2V5c0-1.1-.9-2-2-2zM9 17H7v-7h2v7zm4 0h-2V7h2v10zm4 0h-2v-4h2v4z\"/>\n",
              "    </g>\n",
              "</svg>\n",
              "  </button>\n",
              "\n",
              "<style>\n",
              "  .colab-df-quickchart {\n",
              "      --bg-color: #E8F0FE;\n",
              "      --fill-color: #1967D2;\n",
              "      --hover-bg-color: #E2EBFA;\n",
              "      --hover-fill-color: #174EA6;\n",
              "      --disabled-fill-color: #AAA;\n",
              "      --disabled-bg-color: #DDD;\n",
              "  }\n",
              "\n",
              "  [theme=dark] .colab-df-quickchart {\n",
              "      --bg-color: #3B4455;\n",
              "      --fill-color: #D2E3FC;\n",
              "      --hover-bg-color: #434B5C;\n",
              "      --hover-fill-color: #FFFFFF;\n",
              "      --disabled-bg-color: #3B4455;\n",
              "      --disabled-fill-color: #666;\n",
              "  }\n",
              "\n",
              "  .colab-df-quickchart {\n",
              "    background-color: var(--bg-color);\n",
              "    border: none;\n",
              "    border-radius: 50%;\n",
              "    cursor: pointer;\n",
              "    display: none;\n",
              "    fill: var(--fill-color);\n",
              "    height: 32px;\n",
              "    padding: 0;\n",
              "    width: 32px;\n",
              "  }\n",
              "\n",
              "  .colab-df-quickchart:hover {\n",
              "    background-color: var(--hover-bg-color);\n",
              "    box-shadow: 0 1px 2px rgba(60, 64, 67, 0.3), 0 1px 3px 1px rgba(60, 64, 67, 0.15);\n",
              "    fill: var(--button-hover-fill-color);\n",
              "  }\n",
              "\n",
              "  .colab-df-quickchart-complete:disabled,\n",
              "  .colab-df-quickchart-complete:disabled:hover {\n",
              "    background-color: var(--disabled-bg-color);\n",
              "    fill: var(--disabled-fill-color);\n",
              "    box-shadow: none;\n",
              "  }\n",
              "\n",
              "  .colab-df-spinner {\n",
              "    border: 2px solid var(--fill-color);\n",
              "    border-color: transparent;\n",
              "    border-bottom-color: var(--fill-color);\n",
              "    animation:\n",
              "      spin 1s steps(1) infinite;\n",
              "  }\n",
              "\n",
              "  @keyframes spin {\n",
              "    0% {\n",
              "      border-color: transparent;\n",
              "      border-bottom-color: var(--fill-color);\n",
              "      border-left-color: var(--fill-color);\n",
              "    }\n",
              "    20% {\n",
              "      border-color: transparent;\n",
              "      border-left-color: var(--fill-color);\n",
              "      border-top-color: var(--fill-color);\n",
              "    }\n",
              "    30% {\n",
              "      border-color: transparent;\n",
              "      border-left-color: var(--fill-color);\n",
              "      border-top-color: var(--fill-color);\n",
              "      border-right-color: var(--fill-color);\n",
              "    }\n",
              "    40% {\n",
              "      border-color: transparent;\n",
              "      border-right-color: var(--fill-color);\n",
              "      border-top-color: var(--fill-color);\n",
              "    }\n",
              "    60% {\n",
              "      border-color: transparent;\n",
              "      border-right-color: var(--fill-color);\n",
              "    }\n",
              "    80% {\n",
              "      border-color: transparent;\n",
              "      border-right-color: var(--fill-color);\n",
              "      border-bottom-color: var(--fill-color);\n",
              "    }\n",
              "    90% {\n",
              "      border-color: transparent;\n",
              "      border-bottom-color: var(--fill-color);\n",
              "    }\n",
              "  }\n",
              "</style>\n",
              "\n",
              "  <script>\n",
              "    async function quickchart(key) {\n",
              "      const quickchartButtonEl =\n",
              "        document.querySelector('#' + key + ' button');\n",
              "      quickchartButtonEl.disabled = true;  // To prevent multiple clicks.\n",
              "      quickchartButtonEl.classList.add('colab-df-spinner');\n",
              "      try {\n",
              "        const charts = await google.colab.kernel.invokeFunction(\n",
              "            'suggestCharts', [key], {});\n",
              "      } catch (error) {\n",
              "        console.error('Error during call to suggestCharts:', error);\n",
              "      }\n",
              "      quickchartButtonEl.classList.remove('colab-df-spinner');\n",
              "      quickchartButtonEl.classList.add('colab-df-quickchart-complete');\n",
              "    }\n",
              "    (() => {\n",
              "      let quickchartButtonEl =\n",
              "        document.querySelector('#df-7a4196a0-90d9-40e5-90f4-b341a9b93748 button');\n",
              "      quickchartButtonEl.style.display =\n",
              "        google.colab.kernel.accessAllowed ? 'block' : 'none';\n",
              "    })();\n",
              "  </script>\n",
              "</div>\n",
              "\n",
              "    </div>\n",
              "  </div>\n"
            ],
            "application/vnd.google.colaboratory.intrinsic+json": {
              "type": "dataframe",
              "variable_name": "house",
              "summary": "{\n  \"name\": \"house\",\n  \"rows\": 3502,\n  \"fields\": [\n    {\n      \"column\": \"SquareFeet\",\n      \"properties\": {\n        \"dtype\": \"number\",\n        \"std\": 570,\n        \"min\": 1000,\n        \"max\": 2999,\n        \"num_unique_values\": 1608,\n        \"samples\": [\n          1955,\n          2579,\n          2676\n        ],\n        \"semantic_type\": \"\",\n        \"description\": \"\"\n      }\n    },\n    {\n      \"column\": \"Bedrooms\",\n      \"properties\": {\n        \"dtype\": \"number\",\n        \"std\": 1.1087185280724772,\n        \"min\": 2.0,\n        \"max\": 5.0,\n        \"num_unique_values\": 4,\n        \"samples\": [\n          3.0,\n          5.0,\n          4.0\n        ],\n        \"semantic_type\": \"\",\n        \"description\": \"\"\n      }\n    },\n    {\n      \"column\": \"Bathrooms\",\n      \"properties\": {\n        \"dtype\": \"number\",\n        \"std\": 0,\n        \"min\": 1,\n        \"max\": 3,\n        \"num_unique_values\": 3,\n        \"samples\": [\n          1,\n          2,\n          3\n        ],\n        \"semantic_type\": \"\",\n        \"description\": \"\"\n      }\n    },\n    {\n      \"column\": \"Neighborhood\",\n      \"properties\": {\n        \"dtype\": \"category\",\n        \"num_unique_values\": 3,\n        \"samples\": [\n          \"Rural\",\n          \"Suburb\",\n          \"Urban\"\n        ],\n        \"semantic_type\": \"\",\n        \"description\": \"\"\n      }\n    },\n    {\n      \"column\": \"YearBuilt\",\n      \"properties\": {\n        \"dtype\": \"number\",\n        \"std\": 20,\n        \"min\": 1950,\n        \"max\": 2021,\n        \"num_unique_values\": 72,\n        \"samples\": [\n          2001,\n          1967,\n          1962\n        ],\n        \"semantic_type\": \"\",\n        \"description\": \"\"\n      }\n    },\n    {\n      \"column\": \"Price\",\n      \"properties\": {\n        \"dtype\": \"number\",\n        \"std\": 75285.82607149117,\n        \"min\": -24715.24248,\n        \"max\": 461502.0146,\n        \"num_unique_values\": 3502,\n        \"samples\": [\n          92447.12816,\n          284616.4673,\n          301879.0537\n        ],\n        \"semantic_type\": \"\",\n        \"description\": \"\"\n      }\n    }\n  ]\n}"
            }
          },
          "metadata": {},
          "execution_count": 3
        }
      ]
    },
    {
      "cell_type": "code",
      "source": [
        "print(\"Initial shape of dataset:\", house.shape)"
      ],
      "metadata": {
        "colab": {
          "base_uri": "https://localhost:8080/"
        },
        "id": "TNAoffM4i3Sa",
        "outputId": "51fadf97-1d2b-4832-c99e-b7feab6ed443"
      },
      "execution_count": 4,
      "outputs": [
        {
          "output_type": "stream",
          "name": "stdout",
          "text": [
            "Initial shape of dataset: (3502, 6)\n"
          ]
        }
      ]
    },
    {
      "cell_type": "code",
      "source": [
        "house.isnull().sum()"
      ],
      "metadata": {
        "colab": {
          "base_uri": "https://localhost:8080/",
          "height": 272
        },
        "id": "YsBnMG9djFxv",
        "outputId": "9b4e887e-4698-47e6-c0fb-88c5aefa2e05"
      },
      "execution_count": 5,
      "outputs": [
        {
          "output_type": "execute_result",
          "data": {
            "text/plain": [
              "SquareFeet       0\n",
              "Bedrooms        35\n",
              "Bathrooms        0\n",
              "Neighborhood     0\n",
              "YearBuilt        0\n",
              "Price            0\n",
              "dtype: int64"
            ],
            "text/html": [
              "<div>\n",
              "<style scoped>\n",
              "    .dataframe tbody tr th:only-of-type {\n",
              "        vertical-align: middle;\n",
              "    }\n",
              "\n",
              "    .dataframe tbody tr th {\n",
              "        vertical-align: top;\n",
              "    }\n",
              "\n",
              "    .dataframe thead th {\n",
              "        text-align: right;\n",
              "    }\n",
              "</style>\n",
              "<table border=\"1\" class=\"dataframe\">\n",
              "  <thead>\n",
              "    <tr style=\"text-align: right;\">\n",
              "      <th></th>\n",
              "      <th>0</th>\n",
              "    </tr>\n",
              "  </thead>\n",
              "  <tbody>\n",
              "    <tr>\n",
              "      <th>SquareFeet</th>\n",
              "      <td>0</td>\n",
              "    </tr>\n",
              "    <tr>\n",
              "      <th>Bedrooms</th>\n",
              "      <td>35</td>\n",
              "    </tr>\n",
              "    <tr>\n",
              "      <th>Bathrooms</th>\n",
              "      <td>0</td>\n",
              "    </tr>\n",
              "    <tr>\n",
              "      <th>Neighborhood</th>\n",
              "      <td>0</td>\n",
              "    </tr>\n",
              "    <tr>\n",
              "      <th>YearBuilt</th>\n",
              "      <td>0</td>\n",
              "    </tr>\n",
              "    <tr>\n",
              "      <th>Price</th>\n",
              "      <td>0</td>\n",
              "    </tr>\n",
              "  </tbody>\n",
              "</table>\n",
              "</div><br><label><b>dtype:</b> int64</label>"
            ]
          },
          "metadata": {},
          "execution_count": 5
        }
      ]
    },
    {
      "cell_type": "code",
      "source": [
        "# There are 35 rows with null value in the bedrooms column. So, will remove those  35 rows\n",
        "print(\"Number of rows with null values in Bedroom column: \", house['Bedrooms'].isnull().sum())\n",
        "\n",
        "# New set of the house dataset after reoving null values\n",
        "house = house[house['Bedrooms'].notnull()]\n",
        "\n",
        "# The new shape of the dataframe\n",
        "print(\"Shape after removing null values: \", house.shape)"
      ],
      "metadata": {
        "colab": {
          "base_uri": "https://localhost:8080/"
        },
        "id": "c39nUFQmjPjP",
        "outputId": "3566e128-4927-451d-ddf2-3dc7906fd11f"
      },
      "execution_count": 6,
      "outputs": [
        {
          "output_type": "stream",
          "name": "stdout",
          "text": [
            "Number of rows with null values in Bedroom column:  35\n",
            "Shape after removing null values:  (3467, 6)\n"
          ]
        }
      ]
    },
    {
      "cell_type": "code",
      "source": [
        "print(\"Shape after dropping:\", house.shape)\n",
        "house.isnull().sum()\n",
        "# As there are no other columns with null values now.\n",
        "# So, there is no need to remove null values or impute missing values for any column."
      ],
      "metadata": {
        "colab": {
          "base_uri": "https://localhost:8080/",
          "height": 290
        },
        "id": "xMcwOqUPktOM",
        "outputId": "bdbd75f8-5550-457f-8780-a663aec0197a"
      },
      "execution_count": 7,
      "outputs": [
        {
          "output_type": "stream",
          "name": "stdout",
          "text": [
            "Shape after dropping: (3467, 6)\n"
          ]
        },
        {
          "output_type": "execute_result",
          "data": {
            "text/plain": [
              "SquareFeet      0\n",
              "Bedrooms        0\n",
              "Bathrooms       0\n",
              "Neighborhood    0\n",
              "YearBuilt       0\n",
              "Price           0\n",
              "dtype: int64"
            ],
            "text/html": [
              "<div>\n",
              "<style scoped>\n",
              "    .dataframe tbody tr th:only-of-type {\n",
              "        vertical-align: middle;\n",
              "    }\n",
              "\n",
              "    .dataframe tbody tr th {\n",
              "        vertical-align: top;\n",
              "    }\n",
              "\n",
              "    .dataframe thead th {\n",
              "        text-align: right;\n",
              "    }\n",
              "</style>\n",
              "<table border=\"1\" class=\"dataframe\">\n",
              "  <thead>\n",
              "    <tr style=\"text-align: right;\">\n",
              "      <th></th>\n",
              "      <th>0</th>\n",
              "    </tr>\n",
              "  </thead>\n",
              "  <tbody>\n",
              "    <tr>\n",
              "      <th>SquareFeet</th>\n",
              "      <td>0</td>\n",
              "    </tr>\n",
              "    <tr>\n",
              "      <th>Bedrooms</th>\n",
              "      <td>0</td>\n",
              "    </tr>\n",
              "    <tr>\n",
              "      <th>Bathrooms</th>\n",
              "      <td>0</td>\n",
              "    </tr>\n",
              "    <tr>\n",
              "      <th>Neighborhood</th>\n",
              "      <td>0</td>\n",
              "    </tr>\n",
              "    <tr>\n",
              "      <th>YearBuilt</th>\n",
              "      <td>0</td>\n",
              "    </tr>\n",
              "    <tr>\n",
              "      <th>Price</th>\n",
              "      <td>0</td>\n",
              "    </tr>\n",
              "  </tbody>\n",
              "</table>\n",
              "</div><br><label><b>dtype:</b> int64</label>"
            ]
          },
          "metadata": {},
          "execution_count": 7
        }
      ]
    },
    {
      "cell_type": "code",
      "source": [
        "# Task-2: Removing duplicate rows (if present)\n",
        "# checking if there are any duplicate rows in the dataset\n",
        "duplicates_exist = house.duplicated().any()\n",
        "print(duplicates_exist)\n",
        "# As there ae no duplicate rows, there is no need to remove any rows"
      ],
      "metadata": {
        "colab": {
          "base_uri": "https://localhost:8080/"
        },
        "id": "cKZIKFL5m3vq",
        "outputId": "d21ebaab-f2f5-443a-8927-c3bd485bf5d9"
      },
      "execution_count": 8,
      "outputs": [
        {
          "output_type": "stream",
          "name": "stdout",
          "text": [
            "False\n"
          ]
        }
      ]
    },
    {
      "cell_type": "code",
      "source": [
        "# Task-03: Handling categorical variables\n",
        "# Let's see what featueres the dataset has\n",
        "house.keys()"
      ],
      "metadata": {
        "id": "bDS6La1onQwT",
        "colab": {
          "base_uri": "https://localhost:8080/"
        },
        "outputId": "379ac588-d05e-4c92-9fac-eba0894f9c52"
      },
      "execution_count": 9,
      "outputs": [
        {
          "output_type": "execute_result",
          "data": {
            "text/plain": [
              "Index(['SquareFeet', 'Bedrooms', 'Bathrooms', 'Neighborhood', 'YearBuilt',\n",
              "       'Price'],\n",
              "      dtype='object')"
            ]
          },
          "metadata": {},
          "execution_count": 9
        }
      ]
    },
    {
      "cell_type": "code",
      "source": [
        "house['SquareFeet'].unique()\n",
        "# Already in number. So, there is no need to encode the values"
      ],
      "metadata": {
        "colab": {
          "base_uri": "https://localhost:8080/"
        },
        "id": "_x3UJzff1f5C",
        "outputId": "d854a952-5f52-44d0-e8af-9b06c787f9d4"
      },
      "execution_count": 10,
      "outputs": [
        {
          "output_type": "execute_result",
          "data": {
            "text/plain": [
              "array([2126, 2459, 1860, ..., 1944, 2936, 2878])"
            ]
          },
          "metadata": {},
          "execution_count": 10
        }
      ]
    },
    {
      "cell_type": "code",
      "source": [
        "house['Bedrooms'].unique()\n",
        "# Already in number. So, there is no need to encode the values"
      ],
      "metadata": {
        "colab": {
          "base_uri": "https://localhost:8080/"
        },
        "id": "7XbULBDY13Oa",
        "outputId": "7ed12ef7-3cc8-4346-8208-dbca941cb9ad"
      },
      "execution_count": 11,
      "outputs": [
        {
          "output_type": "execute_result",
          "data": {
            "text/plain": [
              "array([4., 3., 2., 5.])"
            ]
          },
          "metadata": {},
          "execution_count": 11
        }
      ]
    },
    {
      "cell_type": "code",
      "source": [
        "house['Bathrooms'].unique()\n",
        "# Already in number. So, there is no need to encode the values"
      ],
      "metadata": {
        "colab": {
          "base_uri": "https://localhost:8080/"
        },
        "id": "VbUMRqnW16tX",
        "outputId": "a8a8c48e-3b1e-434f-cf86-55f054d855b9"
      },
      "execution_count": 12,
      "outputs": [
        {
          "output_type": "execute_result",
          "data": {
            "text/plain": [
              "array([1, 2, 3])"
            ]
          },
          "metadata": {},
          "execution_count": 12
        }
      ]
    },
    {
      "cell_type": "code",
      "source": [
        "house['Neighborhood'].unique()\n",
        "# The output is in strings and there are only 3 unique values. So, need to encode it."
      ],
      "metadata": {
        "colab": {
          "base_uri": "https://localhost:8080/"
        },
        "id": "9-ZiQ0TZ17dS",
        "outputId": "0bd82599-a019-4e87-9a85-27bffaf4d62c"
      },
      "execution_count": 13,
      "outputs": [
        {
          "output_type": "execute_result",
          "data": {
            "text/plain": [
              "array(['Rural', 'Suburb', 'Urban'], dtype=object)"
            ]
          },
          "metadata": {},
          "execution_count": 13
        }
      ]
    },
    {
      "cell_type": "code",
      "source": [
        "house['YearBuilt'].unique()\n",
        "# Already in number. So, there is no need to encode the values"
      ],
      "metadata": {
        "colab": {
          "base_uri": "https://localhost:8080/"
        },
        "id": "pvYfWFu12MC1",
        "outputId": "b8b1af9a-3620-4d6a-bc63-7733495f7f0b"
      },
      "execution_count": 14,
      "outputs": [
        {
          "output_type": "execute_result",
          "data": {
            "text/plain": [
              "array([1969, 1980, 1970, 1996, 2001, 2020, 1993, 1957, 1959, 1960, 2016,\n",
              "       1962, 2007, 1994, 1992, 2013, 1988, 1989, 2000, 2015, 2014, 1983,\n",
              "       1961, 1972, 2017, 2002, 1985, 1963, 1975, 2004, 2012, 2019, 1995,\n",
              "       1986, 1965, 1981, 1956, 1954, 2021, 1958, 1971, 2005, 1977, 1984,\n",
              "       1982, 1997, 2003, 1951, 1999, 1978, 1964, 1952, 2018, 1953, 1968,\n",
              "       1966, 1955, 1967, 1987, 2008, 1950, 1998, 1976, 1991, 2010, 1973,\n",
              "       2011, 1990, 1979, 2006, 1974, 2009])"
            ]
          },
          "metadata": {},
          "execution_count": 14
        }
      ]
    },
    {
      "cell_type": "code",
      "source": [
        "house['Price'].unique()\n",
        "# Already in number. So, there is no need to encode the values"
      ],
      "metadata": {
        "colab": {
          "base_uri": "https://localhost:8080/"
        },
        "id": "8m8Z2uwK2OjV",
        "outputId": "fadb705a-4a30-4d4b-accf-98337957325b"
      },
      "execution_count": 15,
      "outputs": [
        {
          "output_type": "execute_result",
          "data": {
            "text/plain": [
              "array([215355.2836, 195014.2216, 306891.0121, ..., 182859.9475,\n",
              "       256195.7758, 225565.5271])"
            ]
          },
          "metadata": {},
          "execution_count": 15
        }
      ]
    },
    {
      "cell_type": "code",
      "source": [
        "# Encoding the Neighborhood column:\n",
        "from sklearn.preprocessing import LabelEncoder\n",
        "enc = LabelEncoder()\n",
        "\n",
        "# Apply the encoding to the \"Neighborhood\" column\n",
        "house['Neighborhood'] = house['Neighborhood'].map({'Rural': 1, 'Suburb': 2, 'Urban': 3}) #\n",
        "\n",
        "# New neighborhood columns\n",
        "print(house['Neighborhood'].head())\n"
      ],
      "metadata": {
        "colab": {
          "base_uri": "https://localhost:8080/"
        },
        "id": "pkltZtsi25v_",
        "outputId": "69ac86a3-69ce-4aca-944f-f992e1ea213e"
      },
      "execution_count": 16,
      "outputs": [
        {
          "output_type": "stream",
          "name": "stdout",
          "text": [
            "0    1\n",
            "1    1\n",
            "2    2\n",
            "3    3\n",
            "4    2\n",
            "Name: Neighborhood, dtype: int64\n"
          ]
        }
      ]
    },
    {
      "cell_type": "code",
      "source": [
        "# the updated dataset where all the features are numbers\n",
        "house.head(3)"
      ],
      "metadata": {
        "colab": {
          "base_uri": "https://localhost:8080/",
          "height": 143
        },
        "id": "FBRjxFyCcKRG",
        "outputId": "d5731668-e550-4a90-a0d0-bea9bdaed867"
      },
      "execution_count": 17,
      "outputs": [
        {
          "output_type": "execute_result",
          "data": {
            "text/plain": [
              "   SquareFeet  Bedrooms  Bathrooms  Neighborhood  YearBuilt        Price\n",
              "0        2126       4.0          1             1       1969  215355.2836\n",
              "1        2459       3.0          2             1       1980  195014.2216\n",
              "2        1860       2.0          1             2       1970  306891.0121"
            ],
            "text/html": [
              "\n",
              "  <div id=\"df-a8c6227b-cb5c-42ee-bae3-96da444b037e\" class=\"colab-df-container\">\n",
              "    <div>\n",
              "<style scoped>\n",
              "    .dataframe tbody tr th:only-of-type {\n",
              "        vertical-align: middle;\n",
              "    }\n",
              "\n",
              "    .dataframe tbody tr th {\n",
              "        vertical-align: top;\n",
              "    }\n",
              "\n",
              "    .dataframe thead th {\n",
              "        text-align: right;\n",
              "    }\n",
              "</style>\n",
              "<table border=\"1\" class=\"dataframe\">\n",
              "  <thead>\n",
              "    <tr style=\"text-align: right;\">\n",
              "      <th></th>\n",
              "      <th>SquareFeet</th>\n",
              "      <th>Bedrooms</th>\n",
              "      <th>Bathrooms</th>\n",
              "      <th>Neighborhood</th>\n",
              "      <th>YearBuilt</th>\n",
              "      <th>Price</th>\n",
              "    </tr>\n",
              "  </thead>\n",
              "  <tbody>\n",
              "    <tr>\n",
              "      <th>0</th>\n",
              "      <td>2126</td>\n",
              "      <td>4.0</td>\n",
              "      <td>1</td>\n",
              "      <td>1</td>\n",
              "      <td>1969</td>\n",
              "      <td>215355.2836</td>\n",
              "    </tr>\n",
              "    <tr>\n",
              "      <th>1</th>\n",
              "      <td>2459</td>\n",
              "      <td>3.0</td>\n",
              "      <td>2</td>\n",
              "      <td>1</td>\n",
              "      <td>1980</td>\n",
              "      <td>195014.2216</td>\n",
              "    </tr>\n",
              "    <tr>\n",
              "      <th>2</th>\n",
              "      <td>1860</td>\n",
              "      <td>2.0</td>\n",
              "      <td>1</td>\n",
              "      <td>2</td>\n",
              "      <td>1970</td>\n",
              "      <td>306891.0121</td>\n",
              "    </tr>\n",
              "  </tbody>\n",
              "</table>\n",
              "</div>\n",
              "    <div class=\"colab-df-buttons\">\n",
              "\n",
              "  <div class=\"colab-df-container\">\n",
              "    <button class=\"colab-df-convert\" onclick=\"convertToInteractive('df-a8c6227b-cb5c-42ee-bae3-96da444b037e')\"\n",
              "            title=\"Convert this dataframe to an interactive table.\"\n",
              "            style=\"display:none;\">\n",
              "\n",
              "  <svg xmlns=\"http://www.w3.org/2000/svg\" height=\"24px\" viewBox=\"0 -960 960 960\">\n",
              "    <path d=\"M120-120v-720h720v720H120Zm60-500h600v-160H180v160Zm220 220h160v-160H400v160Zm0 220h160v-160H400v160ZM180-400h160v-160H180v160Zm440 0h160v-160H620v160ZM180-180h160v-160H180v160Zm440 0h160v-160H620v160Z\"/>\n",
              "  </svg>\n",
              "    </button>\n",
              "\n",
              "  <style>\n",
              "    .colab-df-container {\n",
              "      display:flex;\n",
              "      gap: 12px;\n",
              "    }\n",
              "\n",
              "    .colab-df-convert {\n",
              "      background-color: #E8F0FE;\n",
              "      border: none;\n",
              "      border-radius: 50%;\n",
              "      cursor: pointer;\n",
              "      display: none;\n",
              "      fill: #1967D2;\n",
              "      height: 32px;\n",
              "      padding: 0 0 0 0;\n",
              "      width: 32px;\n",
              "    }\n",
              "\n",
              "    .colab-df-convert:hover {\n",
              "      background-color: #E2EBFA;\n",
              "      box-shadow: 0px 1px 2px rgba(60, 64, 67, 0.3), 0px 1px 3px 1px rgba(60, 64, 67, 0.15);\n",
              "      fill: #174EA6;\n",
              "    }\n",
              "\n",
              "    .colab-df-buttons div {\n",
              "      margin-bottom: 4px;\n",
              "    }\n",
              "\n",
              "    [theme=dark] .colab-df-convert {\n",
              "      background-color: #3B4455;\n",
              "      fill: #D2E3FC;\n",
              "    }\n",
              "\n",
              "    [theme=dark] .colab-df-convert:hover {\n",
              "      background-color: #434B5C;\n",
              "      box-shadow: 0px 1px 3px 1px rgba(0, 0, 0, 0.15);\n",
              "      filter: drop-shadow(0px 1px 2px rgba(0, 0, 0, 0.3));\n",
              "      fill: #FFFFFF;\n",
              "    }\n",
              "  </style>\n",
              "\n",
              "    <script>\n",
              "      const buttonEl =\n",
              "        document.querySelector('#df-a8c6227b-cb5c-42ee-bae3-96da444b037e button.colab-df-convert');\n",
              "      buttonEl.style.display =\n",
              "        google.colab.kernel.accessAllowed ? 'block' : 'none';\n",
              "\n",
              "      async function convertToInteractive(key) {\n",
              "        const element = document.querySelector('#df-a8c6227b-cb5c-42ee-bae3-96da444b037e');\n",
              "        const dataTable =\n",
              "          await google.colab.kernel.invokeFunction('convertToInteractive',\n",
              "                                                    [key], {});\n",
              "        if (!dataTable) return;\n",
              "\n",
              "        const docLinkHtml = 'Like what you see? Visit the ' +\n",
              "          '<a target=\"_blank\" href=https://colab.research.google.com/notebooks/data_table.ipynb>data table notebook</a>'\n",
              "          + ' to learn more about interactive tables.';\n",
              "        element.innerHTML = '';\n",
              "        dataTable['output_type'] = 'display_data';\n",
              "        await google.colab.output.renderOutput(dataTable, element);\n",
              "        const docLink = document.createElement('div');\n",
              "        docLink.innerHTML = docLinkHtml;\n",
              "        element.appendChild(docLink);\n",
              "      }\n",
              "    </script>\n",
              "  </div>\n",
              "\n",
              "\n",
              "<div id=\"df-128f62d5-6547-4b14-9277-c6ec87ade5f0\">\n",
              "  <button class=\"colab-df-quickchart\" onclick=\"quickchart('df-128f62d5-6547-4b14-9277-c6ec87ade5f0')\"\n",
              "            title=\"Suggest charts\"\n",
              "            style=\"display:none;\">\n",
              "\n",
              "<svg xmlns=\"http://www.w3.org/2000/svg\" height=\"24px\"viewBox=\"0 0 24 24\"\n",
              "     width=\"24px\">\n",
              "    <g>\n",
              "        <path d=\"M19 3H5c-1.1 0-2 .9-2 2v14c0 1.1.9 2 2 2h14c1.1 0 2-.9 2-2V5c0-1.1-.9-2-2-2zM9 17H7v-7h2v7zm4 0h-2V7h2v10zm4 0h-2v-4h2v4z\"/>\n",
              "    </g>\n",
              "</svg>\n",
              "  </button>\n",
              "\n",
              "<style>\n",
              "  .colab-df-quickchart {\n",
              "      --bg-color: #E8F0FE;\n",
              "      --fill-color: #1967D2;\n",
              "      --hover-bg-color: #E2EBFA;\n",
              "      --hover-fill-color: #174EA6;\n",
              "      --disabled-fill-color: #AAA;\n",
              "      --disabled-bg-color: #DDD;\n",
              "  }\n",
              "\n",
              "  [theme=dark] .colab-df-quickchart {\n",
              "      --bg-color: #3B4455;\n",
              "      --fill-color: #D2E3FC;\n",
              "      --hover-bg-color: #434B5C;\n",
              "      --hover-fill-color: #FFFFFF;\n",
              "      --disabled-bg-color: #3B4455;\n",
              "      --disabled-fill-color: #666;\n",
              "  }\n",
              "\n",
              "  .colab-df-quickchart {\n",
              "    background-color: var(--bg-color);\n",
              "    border: none;\n",
              "    border-radius: 50%;\n",
              "    cursor: pointer;\n",
              "    display: none;\n",
              "    fill: var(--fill-color);\n",
              "    height: 32px;\n",
              "    padding: 0;\n",
              "    width: 32px;\n",
              "  }\n",
              "\n",
              "  .colab-df-quickchart:hover {\n",
              "    background-color: var(--hover-bg-color);\n",
              "    box-shadow: 0 1px 2px rgba(60, 64, 67, 0.3), 0 1px 3px 1px rgba(60, 64, 67, 0.15);\n",
              "    fill: var(--button-hover-fill-color);\n",
              "  }\n",
              "\n",
              "  .colab-df-quickchart-complete:disabled,\n",
              "  .colab-df-quickchart-complete:disabled:hover {\n",
              "    background-color: var(--disabled-bg-color);\n",
              "    fill: var(--disabled-fill-color);\n",
              "    box-shadow: none;\n",
              "  }\n",
              "\n",
              "  .colab-df-spinner {\n",
              "    border: 2px solid var(--fill-color);\n",
              "    border-color: transparent;\n",
              "    border-bottom-color: var(--fill-color);\n",
              "    animation:\n",
              "      spin 1s steps(1) infinite;\n",
              "  }\n",
              "\n",
              "  @keyframes spin {\n",
              "    0% {\n",
              "      border-color: transparent;\n",
              "      border-bottom-color: var(--fill-color);\n",
              "      border-left-color: var(--fill-color);\n",
              "    }\n",
              "    20% {\n",
              "      border-color: transparent;\n",
              "      border-left-color: var(--fill-color);\n",
              "      border-top-color: var(--fill-color);\n",
              "    }\n",
              "    30% {\n",
              "      border-color: transparent;\n",
              "      border-left-color: var(--fill-color);\n",
              "      border-top-color: var(--fill-color);\n",
              "      border-right-color: var(--fill-color);\n",
              "    }\n",
              "    40% {\n",
              "      border-color: transparent;\n",
              "      border-right-color: var(--fill-color);\n",
              "      border-top-color: var(--fill-color);\n",
              "    }\n",
              "    60% {\n",
              "      border-color: transparent;\n",
              "      border-right-color: var(--fill-color);\n",
              "    }\n",
              "    80% {\n",
              "      border-color: transparent;\n",
              "      border-right-color: var(--fill-color);\n",
              "      border-bottom-color: var(--fill-color);\n",
              "    }\n",
              "    90% {\n",
              "      border-color: transparent;\n",
              "      border-bottom-color: var(--fill-color);\n",
              "    }\n",
              "  }\n",
              "</style>\n",
              "\n",
              "  <script>\n",
              "    async function quickchart(key) {\n",
              "      const quickchartButtonEl =\n",
              "        document.querySelector('#' + key + ' button');\n",
              "      quickchartButtonEl.disabled = true;  // To prevent multiple clicks.\n",
              "      quickchartButtonEl.classList.add('colab-df-spinner');\n",
              "      try {\n",
              "        const charts = await google.colab.kernel.invokeFunction(\n",
              "            'suggestCharts', [key], {});\n",
              "      } catch (error) {\n",
              "        console.error('Error during call to suggestCharts:', error);\n",
              "      }\n",
              "      quickchartButtonEl.classList.remove('colab-df-spinner');\n",
              "      quickchartButtonEl.classList.add('colab-df-quickchart-complete');\n",
              "    }\n",
              "    (() => {\n",
              "      let quickchartButtonEl =\n",
              "        document.querySelector('#df-128f62d5-6547-4b14-9277-c6ec87ade5f0 button');\n",
              "      quickchartButtonEl.style.display =\n",
              "        google.colab.kernel.accessAllowed ? 'block' : 'none';\n",
              "    })();\n",
              "  </script>\n",
              "</div>\n",
              "\n",
              "    </div>\n",
              "  </div>\n"
            ],
            "application/vnd.google.colaboratory.intrinsic+json": {
              "type": "dataframe",
              "variable_name": "house",
              "summary": "{\n  \"name\": \"house\",\n  \"rows\": 3467,\n  \"fields\": [\n    {\n      \"column\": \"SquareFeet\",\n      \"properties\": {\n        \"dtype\": \"number\",\n        \"std\": 570,\n        \"min\": 1000,\n        \"max\": 2999,\n        \"num_unique_values\": 1603,\n        \"samples\": [\n          1022,\n          1904,\n          2194\n        ],\n        \"semantic_type\": \"\",\n        \"description\": \"\"\n      }\n    },\n    {\n      \"column\": \"Bedrooms\",\n      \"properties\": {\n        \"dtype\": \"number\",\n        \"std\": 1.108718528072477,\n        \"min\": 2.0,\n        \"max\": 5.0,\n        \"num_unique_values\": 4,\n        \"samples\": [\n          3.0,\n          5.0,\n          4.0\n        ],\n        \"semantic_type\": \"\",\n        \"description\": \"\"\n      }\n    },\n    {\n      \"column\": \"Bathrooms\",\n      \"properties\": {\n        \"dtype\": \"number\",\n        \"std\": 0,\n        \"min\": 1,\n        \"max\": 3,\n        \"num_unique_values\": 3,\n        \"samples\": [\n          1,\n          2,\n          3\n        ],\n        \"semantic_type\": \"\",\n        \"description\": \"\"\n      }\n    },\n    {\n      \"column\": \"Neighborhood\",\n      \"properties\": {\n        \"dtype\": \"number\",\n        \"std\": 0,\n        \"min\": 1,\n        \"max\": 3,\n        \"num_unique_values\": 3,\n        \"samples\": [\n          1,\n          2,\n          3\n        ],\n        \"semantic_type\": \"\",\n        \"description\": \"\"\n      }\n    },\n    {\n      \"column\": \"YearBuilt\",\n      \"properties\": {\n        \"dtype\": \"number\",\n        \"std\": 20,\n        \"min\": 1950,\n        \"max\": 2021,\n        \"num_unique_values\": 72,\n        \"samples\": [\n          2001,\n          1976,\n          2000\n        ],\n        \"semantic_type\": \"\",\n        \"description\": \"\"\n      }\n    },\n    {\n      \"column\": \"Price\",\n      \"properties\": {\n        \"dtype\": \"number\",\n        \"std\": 75135.36829802462,\n        \"min\": -24715.24248,\n        \"max\": 461502.0146,\n        \"num_unique_values\": 3467,\n        \"samples\": [\n          308677.045,\n          208334.574,\n          141658.6807\n        ],\n        \"semantic_type\": \"\",\n        \"description\": \"\"\n      }\n    }\n  ]\n}"
            }
          },
          "metadata": {},
          "execution_count": 17
        }
      ]
    },
    {
      "cell_type": "code",
      "source": [
        "# creating data and target dataframe to split data for training and testing and checking for corelations\n",
        "data = house.drop(columns= ['Price'])\n",
        "target = house['Price']\n",
        "print(data)\n"
      ],
      "metadata": {
        "colab": {
          "base_uri": "https://localhost:8080/"
        },
        "id": "JJio0ynEeBLH",
        "outputId": "4f6e4451-bc21-4745-9b05-90a7b24200d0"
      },
      "execution_count": 18,
      "outputs": [
        {
          "output_type": "stream",
          "name": "stdout",
          "text": [
            "      SquareFeet  Bedrooms  Bathrooms  Neighborhood  YearBuilt\n",
            "0           2126       4.0          1             1       1969\n",
            "1           2459       3.0          2             1       1980\n",
            "2           1860       2.0          1             2       1970\n",
            "3           2294       2.0          1             3       1996\n",
            "4           2130       5.0          2             2       2001\n",
            "...          ...       ...        ...           ...        ...\n",
            "3497        1448       5.0          1             1       1988\n",
            "3498        1086       2.0          1             1       2017\n",
            "3499        1100       5.0          2             1       1989\n",
            "3500        2031       4.0          3             1       1965\n",
            "3501        1844       2.0          3             1       2011\n",
            "\n",
            "[3467 rows x 5 columns]\n"
          ]
        }
      ]
    },
    {
      "cell_type": "code",
      "source": [
        "# splitting the data for training and testing\n",
        "from sklearn.model_selection import train_test_split\n",
        "X_train, X_test, y_train, y_test = train_test_split(data, target, test_size=0.2, random_state=1)"
      ],
      "metadata": {
        "id": "Dmuxumgwf1nF"
      },
      "execution_count": 19,
      "outputs": []
    },
    {
      "cell_type": "code",
      "source": [
        "print(\"per-feature minimum before scaling:\\n {}\".format(X_train.min(axis=0)))\n",
        "print(\"per-feature maximum before scaling:\\n {}\".format(X_train.max(axis=0)))"
      ],
      "metadata": {
        "colab": {
          "base_uri": "https://localhost:8080/"
        },
        "id": "nRiLUhVygx2c",
        "outputId": "5a93498b-78d3-4048-8f62-c11252c929e0"
      },
      "execution_count": 20,
      "outputs": [
        {
          "output_type": "stream",
          "name": "stdout",
          "text": [
            "per-feature minimum before scaling:\n",
            " SquareFeet      1000.0\n",
            "Bedrooms           2.0\n",
            "Bathrooms          1.0\n",
            "Neighborhood       1.0\n",
            "YearBuilt       1950.0\n",
            "dtype: float64\n",
            "per-feature maximum before scaling:\n",
            " SquareFeet      2999.0\n",
            "Bedrooms           5.0\n",
            "Bathrooms          3.0\n",
            "Neighborhood       3.0\n",
            "YearBuilt       2021.0\n",
            "dtype: float64\n"
          ]
        }
      ]
    },
    {
      "cell_type": "code",
      "source": [
        "# Scaling Datapoints\n",
        "from sklearn.preprocessing import MinMaxScaler\n",
        "scaler = MinMaxScaler()\n",
        "scaler.fit(X_train)"
      ],
      "metadata": {
        "colab": {
          "base_uri": "https://localhost:8080/",
          "height": 74
        },
        "id": "dukaa1-8gEs8",
        "outputId": "62e686ce-dd53-4434-dfe3-e37a667d441b"
      },
      "execution_count": 21,
      "outputs": [
        {
          "output_type": "execute_result",
          "data": {
            "text/plain": [
              "MinMaxScaler()"
            ],
            "text/html": [
              "<style>#sk-container-id-1 {color: black;}#sk-container-id-1 pre{padding: 0;}#sk-container-id-1 div.sk-toggleable {background-color: white;}#sk-container-id-1 label.sk-toggleable__label {cursor: pointer;display: block;width: 100%;margin-bottom: 0;padding: 0.3em;box-sizing: border-box;text-align: center;}#sk-container-id-1 label.sk-toggleable__label-arrow:before {content: \"▸\";float: left;margin-right: 0.25em;color: #696969;}#sk-container-id-1 label.sk-toggleable__label-arrow:hover:before {color: black;}#sk-container-id-1 div.sk-estimator:hover label.sk-toggleable__label-arrow:before {color: black;}#sk-container-id-1 div.sk-toggleable__content {max-height: 0;max-width: 0;overflow: hidden;text-align: left;background-color: #f0f8ff;}#sk-container-id-1 div.sk-toggleable__content pre {margin: 0.2em;color: black;border-radius: 0.25em;background-color: #f0f8ff;}#sk-container-id-1 input.sk-toggleable__control:checked~div.sk-toggleable__content {max-height: 200px;max-width: 100%;overflow: auto;}#sk-container-id-1 input.sk-toggleable__control:checked~label.sk-toggleable__label-arrow:before {content: \"▾\";}#sk-container-id-1 div.sk-estimator input.sk-toggleable__control:checked~label.sk-toggleable__label {background-color: #d4ebff;}#sk-container-id-1 div.sk-label input.sk-toggleable__control:checked~label.sk-toggleable__label {background-color: #d4ebff;}#sk-container-id-1 input.sk-hidden--visually {border: 0;clip: rect(1px 1px 1px 1px);clip: rect(1px, 1px, 1px, 1px);height: 1px;margin: -1px;overflow: hidden;padding: 0;position: absolute;width: 1px;}#sk-container-id-1 div.sk-estimator {font-family: monospace;background-color: #f0f8ff;border: 1px dotted black;border-radius: 0.25em;box-sizing: border-box;margin-bottom: 0.5em;}#sk-container-id-1 div.sk-estimator:hover {background-color: #d4ebff;}#sk-container-id-1 div.sk-parallel-item::after {content: \"\";width: 100%;border-bottom: 1px solid gray;flex-grow: 1;}#sk-container-id-1 div.sk-label:hover label.sk-toggleable__label {background-color: #d4ebff;}#sk-container-id-1 div.sk-serial::before {content: \"\";position: absolute;border-left: 1px solid gray;box-sizing: border-box;top: 0;bottom: 0;left: 50%;z-index: 0;}#sk-container-id-1 div.sk-serial {display: flex;flex-direction: column;align-items: center;background-color: white;padding-right: 0.2em;padding-left: 0.2em;position: relative;}#sk-container-id-1 div.sk-item {position: relative;z-index: 1;}#sk-container-id-1 div.sk-parallel {display: flex;align-items: stretch;justify-content: center;background-color: white;position: relative;}#sk-container-id-1 div.sk-item::before, #sk-container-id-1 div.sk-parallel-item::before {content: \"\";position: absolute;border-left: 1px solid gray;box-sizing: border-box;top: 0;bottom: 0;left: 50%;z-index: -1;}#sk-container-id-1 div.sk-parallel-item {display: flex;flex-direction: column;z-index: 1;position: relative;background-color: white;}#sk-container-id-1 div.sk-parallel-item:first-child::after {align-self: flex-end;width: 50%;}#sk-container-id-1 div.sk-parallel-item:last-child::after {align-self: flex-start;width: 50%;}#sk-container-id-1 div.sk-parallel-item:only-child::after {width: 0;}#sk-container-id-1 div.sk-dashed-wrapped {border: 1px dashed gray;margin: 0 0.4em 0.5em 0.4em;box-sizing: border-box;padding-bottom: 0.4em;background-color: white;}#sk-container-id-1 div.sk-label label {font-family: monospace;font-weight: bold;display: inline-block;line-height: 1.2em;}#sk-container-id-1 div.sk-label-container {text-align: center;}#sk-container-id-1 div.sk-container {/* jupyter's `normalize.less` sets `[hidden] { display: none; }` but bootstrap.min.css set `[hidden] { display: none !important; }` so we also need the `!important` here to be able to override the default hidden behavior on the sphinx rendered scikit-learn.org. See: https://github.com/scikit-learn/scikit-learn/issues/21755 */display: inline-block !important;position: relative;}#sk-container-id-1 div.sk-text-repr-fallback {display: none;}</style><div id=\"sk-container-id-1\" class=\"sk-top-container\"><div class=\"sk-text-repr-fallback\"><pre>MinMaxScaler()</pre><b>In a Jupyter environment, please rerun this cell to show the HTML representation or trust the notebook. <br />On GitHub, the HTML representation is unable to render, please try loading this page with nbviewer.org.</b></div><div class=\"sk-container\" hidden><div class=\"sk-item\"><div class=\"sk-estimator sk-toggleable\"><input class=\"sk-toggleable__control sk-hidden--visually\" id=\"sk-estimator-id-1\" type=\"checkbox\" checked><label for=\"sk-estimator-id-1\" class=\"sk-toggleable__label sk-toggleable__label-arrow\">MinMaxScaler</label><div class=\"sk-toggleable__content\"><pre>MinMaxScaler()</pre></div></div></div></div></div>"
            ]
          },
          "metadata": {},
          "execution_count": 21
        }
      ]
    },
    {
      "cell_type": "code",
      "source": [
        "# transform data\n",
        "X_train_scaled = scaler.transform(X_train)\n",
        "X_test_scaled = scaler.transform(X_test)"
      ],
      "metadata": {
        "id": "mxWUIubxgshd"
      },
      "execution_count": 22,
      "outputs": []
    },
    {
      "cell_type": "code",
      "source": [
        "print(\"per-feature minimum after scaling:\\n {}\".format(\n",
        "    X_train_scaled.min(axis=0)))\n",
        "print(\"per-feature maximum after scaling:\\n {}\".format(\n",
        "    X_train_scaled.max(axis=0)))"
      ],
      "metadata": {
        "colab": {
          "base_uri": "https://localhost:8080/"
        },
        "id": "HBm-e1Dkg4V1",
        "outputId": "e80814ec-b32e-446c-c4d4-d94df59e27d2"
      },
      "execution_count": 23,
      "outputs": [
        {
          "output_type": "stream",
          "name": "stdout",
          "text": [
            "per-feature minimum after scaling:\n",
            " [0. 0. 0. 0. 0.]\n",
            "per-feature maximum after scaling:\n",
            " [1. 1. 1. 1. 1.]\n"
          ]
        }
      ]
    },
    {
      "cell_type": "code",
      "source": [
        "X_train.keys()"
      ],
      "metadata": {
        "colab": {
          "base_uri": "https://localhost:8080/"
        },
        "id": "IerQWNInEFHc",
        "outputId": "7213a2ad-fcbd-4b4f-9953-167f132b9b3f"
      },
      "execution_count": 24,
      "outputs": [
        {
          "output_type": "execute_result",
          "data": {
            "text/plain": [
              "Index(['SquareFeet', 'Bedrooms', 'Bathrooms', 'Neighborhood', 'YearBuilt'], dtype='object')"
            ]
          },
          "metadata": {},
          "execution_count": 24
        }
      ]
    },
    {
      "cell_type": "code",
      "source": [
        "# Removing 1-2 variables using correlation as feature selection\n",
        "# checking for corelation\n",
        "X_train_scaled_df = pd.DataFrame(X_train_scaled, columns=['SquareFeet', 'Bedrooms', 'Bathrooms', 'Neighborhood', 'YearBuilt'])\n",
        "house_corr = X_train_scaled_df.corr()\n",
        "house_corr"
      ],
      "metadata": {
        "colab": {
          "base_uri": "https://localhost:8080/",
          "height": 206
        },
        "id": "fsR9ROLHzbjE",
        "outputId": "ba13168a-b005-44f1-b751-83fdc8c6c952"
      },
      "execution_count": 25,
      "outputs": [
        {
          "output_type": "execute_result",
          "data": {
            "text/plain": [
              "              SquareFeet  Bedrooms  Bathrooms  Neighborhood  YearBuilt\n",
              "SquareFeet      1.000000  0.008130  -0.040345     -0.000737   0.009702\n",
              "Bedrooms        0.008130  1.000000   0.038760     -0.023522   0.016307\n",
              "Bathrooms      -0.040345  0.038760   1.000000     -0.041536   0.019645\n",
              "Neighborhood   -0.000737 -0.023522  -0.041536      1.000000  -0.023290\n",
              "YearBuilt       0.009702  0.016307   0.019645     -0.023290   1.000000"
            ],
            "text/html": [
              "\n",
              "  <div id=\"df-142b51ed-e9de-4578-b11c-d8fe5d03d4f4\" class=\"colab-df-container\">\n",
              "    <div>\n",
              "<style scoped>\n",
              "    .dataframe tbody tr th:only-of-type {\n",
              "        vertical-align: middle;\n",
              "    }\n",
              "\n",
              "    .dataframe tbody tr th {\n",
              "        vertical-align: top;\n",
              "    }\n",
              "\n",
              "    .dataframe thead th {\n",
              "        text-align: right;\n",
              "    }\n",
              "</style>\n",
              "<table border=\"1\" class=\"dataframe\">\n",
              "  <thead>\n",
              "    <tr style=\"text-align: right;\">\n",
              "      <th></th>\n",
              "      <th>SquareFeet</th>\n",
              "      <th>Bedrooms</th>\n",
              "      <th>Bathrooms</th>\n",
              "      <th>Neighborhood</th>\n",
              "      <th>YearBuilt</th>\n",
              "    </tr>\n",
              "  </thead>\n",
              "  <tbody>\n",
              "    <tr>\n",
              "      <th>SquareFeet</th>\n",
              "      <td>1.000000</td>\n",
              "      <td>0.008130</td>\n",
              "      <td>-0.040345</td>\n",
              "      <td>-0.000737</td>\n",
              "      <td>0.009702</td>\n",
              "    </tr>\n",
              "    <tr>\n",
              "      <th>Bedrooms</th>\n",
              "      <td>0.008130</td>\n",
              "      <td>1.000000</td>\n",
              "      <td>0.038760</td>\n",
              "      <td>-0.023522</td>\n",
              "      <td>0.016307</td>\n",
              "    </tr>\n",
              "    <tr>\n",
              "      <th>Bathrooms</th>\n",
              "      <td>-0.040345</td>\n",
              "      <td>0.038760</td>\n",
              "      <td>1.000000</td>\n",
              "      <td>-0.041536</td>\n",
              "      <td>0.019645</td>\n",
              "    </tr>\n",
              "    <tr>\n",
              "      <th>Neighborhood</th>\n",
              "      <td>-0.000737</td>\n",
              "      <td>-0.023522</td>\n",
              "      <td>-0.041536</td>\n",
              "      <td>1.000000</td>\n",
              "      <td>-0.023290</td>\n",
              "    </tr>\n",
              "    <tr>\n",
              "      <th>YearBuilt</th>\n",
              "      <td>0.009702</td>\n",
              "      <td>0.016307</td>\n",
              "      <td>0.019645</td>\n",
              "      <td>-0.023290</td>\n",
              "      <td>1.000000</td>\n",
              "    </tr>\n",
              "  </tbody>\n",
              "</table>\n",
              "</div>\n",
              "    <div class=\"colab-df-buttons\">\n",
              "\n",
              "  <div class=\"colab-df-container\">\n",
              "    <button class=\"colab-df-convert\" onclick=\"convertToInteractive('df-142b51ed-e9de-4578-b11c-d8fe5d03d4f4')\"\n",
              "            title=\"Convert this dataframe to an interactive table.\"\n",
              "            style=\"display:none;\">\n",
              "\n",
              "  <svg xmlns=\"http://www.w3.org/2000/svg\" height=\"24px\" viewBox=\"0 -960 960 960\">\n",
              "    <path d=\"M120-120v-720h720v720H120Zm60-500h600v-160H180v160Zm220 220h160v-160H400v160Zm0 220h160v-160H400v160ZM180-400h160v-160H180v160Zm440 0h160v-160H620v160ZM180-180h160v-160H180v160Zm440 0h160v-160H620v160Z\"/>\n",
              "  </svg>\n",
              "    </button>\n",
              "\n",
              "  <style>\n",
              "    .colab-df-container {\n",
              "      display:flex;\n",
              "      gap: 12px;\n",
              "    }\n",
              "\n",
              "    .colab-df-convert {\n",
              "      background-color: #E8F0FE;\n",
              "      border: none;\n",
              "      border-radius: 50%;\n",
              "      cursor: pointer;\n",
              "      display: none;\n",
              "      fill: #1967D2;\n",
              "      height: 32px;\n",
              "      padding: 0 0 0 0;\n",
              "      width: 32px;\n",
              "    }\n",
              "\n",
              "    .colab-df-convert:hover {\n",
              "      background-color: #E2EBFA;\n",
              "      box-shadow: 0px 1px 2px rgba(60, 64, 67, 0.3), 0px 1px 3px 1px rgba(60, 64, 67, 0.15);\n",
              "      fill: #174EA6;\n",
              "    }\n",
              "\n",
              "    .colab-df-buttons div {\n",
              "      margin-bottom: 4px;\n",
              "    }\n",
              "\n",
              "    [theme=dark] .colab-df-convert {\n",
              "      background-color: #3B4455;\n",
              "      fill: #D2E3FC;\n",
              "    }\n",
              "\n",
              "    [theme=dark] .colab-df-convert:hover {\n",
              "      background-color: #434B5C;\n",
              "      box-shadow: 0px 1px 3px 1px rgba(0, 0, 0, 0.15);\n",
              "      filter: drop-shadow(0px 1px 2px rgba(0, 0, 0, 0.3));\n",
              "      fill: #FFFFFF;\n",
              "    }\n",
              "  </style>\n",
              "\n",
              "    <script>\n",
              "      const buttonEl =\n",
              "        document.querySelector('#df-142b51ed-e9de-4578-b11c-d8fe5d03d4f4 button.colab-df-convert');\n",
              "      buttonEl.style.display =\n",
              "        google.colab.kernel.accessAllowed ? 'block' : 'none';\n",
              "\n",
              "      async function convertToInteractive(key) {\n",
              "        const element = document.querySelector('#df-142b51ed-e9de-4578-b11c-d8fe5d03d4f4');\n",
              "        const dataTable =\n",
              "          await google.colab.kernel.invokeFunction('convertToInteractive',\n",
              "                                                    [key], {});\n",
              "        if (!dataTable) return;\n",
              "\n",
              "        const docLinkHtml = 'Like what you see? Visit the ' +\n",
              "          '<a target=\"_blank\" href=https://colab.research.google.com/notebooks/data_table.ipynb>data table notebook</a>'\n",
              "          + ' to learn more about interactive tables.';\n",
              "        element.innerHTML = '';\n",
              "        dataTable['output_type'] = 'display_data';\n",
              "        await google.colab.output.renderOutput(dataTable, element);\n",
              "        const docLink = document.createElement('div');\n",
              "        docLink.innerHTML = docLinkHtml;\n",
              "        element.appendChild(docLink);\n",
              "      }\n",
              "    </script>\n",
              "  </div>\n",
              "\n",
              "\n",
              "<div id=\"df-0f24f86b-0f5d-438d-ab73-857452fd5368\">\n",
              "  <button class=\"colab-df-quickchart\" onclick=\"quickchart('df-0f24f86b-0f5d-438d-ab73-857452fd5368')\"\n",
              "            title=\"Suggest charts\"\n",
              "            style=\"display:none;\">\n",
              "\n",
              "<svg xmlns=\"http://www.w3.org/2000/svg\" height=\"24px\"viewBox=\"0 0 24 24\"\n",
              "     width=\"24px\">\n",
              "    <g>\n",
              "        <path d=\"M19 3H5c-1.1 0-2 .9-2 2v14c0 1.1.9 2 2 2h14c1.1 0 2-.9 2-2V5c0-1.1-.9-2-2-2zM9 17H7v-7h2v7zm4 0h-2V7h2v10zm4 0h-2v-4h2v4z\"/>\n",
              "    </g>\n",
              "</svg>\n",
              "  </button>\n",
              "\n",
              "<style>\n",
              "  .colab-df-quickchart {\n",
              "      --bg-color: #E8F0FE;\n",
              "      --fill-color: #1967D2;\n",
              "      --hover-bg-color: #E2EBFA;\n",
              "      --hover-fill-color: #174EA6;\n",
              "      --disabled-fill-color: #AAA;\n",
              "      --disabled-bg-color: #DDD;\n",
              "  }\n",
              "\n",
              "  [theme=dark] .colab-df-quickchart {\n",
              "      --bg-color: #3B4455;\n",
              "      --fill-color: #D2E3FC;\n",
              "      --hover-bg-color: #434B5C;\n",
              "      --hover-fill-color: #FFFFFF;\n",
              "      --disabled-bg-color: #3B4455;\n",
              "      --disabled-fill-color: #666;\n",
              "  }\n",
              "\n",
              "  .colab-df-quickchart {\n",
              "    background-color: var(--bg-color);\n",
              "    border: none;\n",
              "    border-radius: 50%;\n",
              "    cursor: pointer;\n",
              "    display: none;\n",
              "    fill: var(--fill-color);\n",
              "    height: 32px;\n",
              "    padding: 0;\n",
              "    width: 32px;\n",
              "  }\n",
              "\n",
              "  .colab-df-quickchart:hover {\n",
              "    background-color: var(--hover-bg-color);\n",
              "    box-shadow: 0 1px 2px rgba(60, 64, 67, 0.3), 0 1px 3px 1px rgba(60, 64, 67, 0.15);\n",
              "    fill: var(--button-hover-fill-color);\n",
              "  }\n",
              "\n",
              "  .colab-df-quickchart-complete:disabled,\n",
              "  .colab-df-quickchart-complete:disabled:hover {\n",
              "    background-color: var(--disabled-bg-color);\n",
              "    fill: var(--disabled-fill-color);\n",
              "    box-shadow: none;\n",
              "  }\n",
              "\n",
              "  .colab-df-spinner {\n",
              "    border: 2px solid var(--fill-color);\n",
              "    border-color: transparent;\n",
              "    border-bottom-color: var(--fill-color);\n",
              "    animation:\n",
              "      spin 1s steps(1) infinite;\n",
              "  }\n",
              "\n",
              "  @keyframes spin {\n",
              "    0% {\n",
              "      border-color: transparent;\n",
              "      border-bottom-color: var(--fill-color);\n",
              "      border-left-color: var(--fill-color);\n",
              "    }\n",
              "    20% {\n",
              "      border-color: transparent;\n",
              "      border-left-color: var(--fill-color);\n",
              "      border-top-color: var(--fill-color);\n",
              "    }\n",
              "    30% {\n",
              "      border-color: transparent;\n",
              "      border-left-color: var(--fill-color);\n",
              "      border-top-color: var(--fill-color);\n",
              "      border-right-color: var(--fill-color);\n",
              "    }\n",
              "    40% {\n",
              "      border-color: transparent;\n",
              "      border-right-color: var(--fill-color);\n",
              "      border-top-color: var(--fill-color);\n",
              "    }\n",
              "    60% {\n",
              "      border-color: transparent;\n",
              "      border-right-color: var(--fill-color);\n",
              "    }\n",
              "    80% {\n",
              "      border-color: transparent;\n",
              "      border-right-color: var(--fill-color);\n",
              "      border-bottom-color: var(--fill-color);\n",
              "    }\n",
              "    90% {\n",
              "      border-color: transparent;\n",
              "      border-bottom-color: var(--fill-color);\n",
              "    }\n",
              "  }\n",
              "</style>\n",
              "\n",
              "  <script>\n",
              "    async function quickchart(key) {\n",
              "      const quickchartButtonEl =\n",
              "        document.querySelector('#' + key + ' button');\n",
              "      quickchartButtonEl.disabled = true;  // To prevent multiple clicks.\n",
              "      quickchartButtonEl.classList.add('colab-df-spinner');\n",
              "      try {\n",
              "        const charts = await google.colab.kernel.invokeFunction(\n",
              "            'suggestCharts', [key], {});\n",
              "      } catch (error) {\n",
              "        console.error('Error during call to suggestCharts:', error);\n",
              "      }\n",
              "      quickchartButtonEl.classList.remove('colab-df-spinner');\n",
              "      quickchartButtonEl.classList.add('colab-df-quickchart-complete');\n",
              "    }\n",
              "    (() => {\n",
              "      let quickchartButtonEl =\n",
              "        document.querySelector('#df-0f24f86b-0f5d-438d-ab73-857452fd5368 button');\n",
              "      quickchartButtonEl.style.display =\n",
              "        google.colab.kernel.accessAllowed ? 'block' : 'none';\n",
              "    })();\n",
              "  </script>\n",
              "</div>\n",
              "\n",
              "  <div id=\"id_9bb634b8-602e-4c6f-88fe-1fc822744363\">\n",
              "    <style>\n",
              "      .colab-df-generate {\n",
              "        background-color: #E8F0FE;\n",
              "        border: none;\n",
              "        border-radius: 50%;\n",
              "        cursor: pointer;\n",
              "        display: none;\n",
              "        fill: #1967D2;\n",
              "        height: 32px;\n",
              "        padding: 0 0 0 0;\n",
              "        width: 32px;\n",
              "      }\n",
              "\n",
              "      .colab-df-generate:hover {\n",
              "        background-color: #E2EBFA;\n",
              "        box-shadow: 0px 1px 2px rgba(60, 64, 67, 0.3), 0px 1px 3px 1px rgba(60, 64, 67, 0.15);\n",
              "        fill: #174EA6;\n",
              "      }\n",
              "\n",
              "      [theme=dark] .colab-df-generate {\n",
              "        background-color: #3B4455;\n",
              "        fill: #D2E3FC;\n",
              "      }\n",
              "\n",
              "      [theme=dark] .colab-df-generate:hover {\n",
              "        background-color: #434B5C;\n",
              "        box-shadow: 0px 1px 3px 1px rgba(0, 0, 0, 0.15);\n",
              "        filter: drop-shadow(0px 1px 2px rgba(0, 0, 0, 0.3));\n",
              "        fill: #FFFFFF;\n",
              "      }\n",
              "    </style>\n",
              "    <button class=\"colab-df-generate\" onclick=\"generateWithVariable('house_corr')\"\n",
              "            title=\"Generate code using this dataframe.\"\n",
              "            style=\"display:none;\">\n",
              "\n",
              "  <svg xmlns=\"http://www.w3.org/2000/svg\" height=\"24px\"viewBox=\"0 0 24 24\"\n",
              "       width=\"24px\">\n",
              "    <path d=\"M7,19H8.4L18.45,9,17,7.55,7,17.6ZM5,21V16.75L18.45,3.32a2,2,0,0,1,2.83,0l1.4,1.43a1.91,1.91,0,0,1,.58,1.4,1.91,1.91,0,0,1-.58,1.4L9.25,21ZM18.45,9,17,7.55Zm-12,3A5.31,5.31,0,0,0,4.9,8.1,5.31,5.31,0,0,0,1,6.5,5.31,5.31,0,0,0,4.9,4.9,5.31,5.31,0,0,0,6.5,1,5.31,5.31,0,0,0,8.1,4.9,5.31,5.31,0,0,0,12,6.5,5.46,5.46,0,0,0,6.5,12Z\"/>\n",
              "  </svg>\n",
              "    </button>\n",
              "    <script>\n",
              "      (() => {\n",
              "      const buttonEl =\n",
              "        document.querySelector('#id_9bb634b8-602e-4c6f-88fe-1fc822744363 button.colab-df-generate');\n",
              "      buttonEl.style.display =\n",
              "        google.colab.kernel.accessAllowed ? 'block' : 'none';\n",
              "\n",
              "      buttonEl.onclick = () => {\n",
              "        google.colab.notebook.generateWithVariable('house_corr');\n",
              "      }\n",
              "      })();\n",
              "    </script>\n",
              "  </div>\n",
              "\n",
              "    </div>\n",
              "  </div>\n"
            ],
            "application/vnd.google.colaboratory.intrinsic+json": {
              "type": "dataframe",
              "variable_name": "house_corr",
              "summary": "{\n  \"name\": \"house_corr\",\n  \"rows\": 5,\n  \"fields\": [\n    {\n      \"column\": \"SquareFeet\",\n      \"properties\": {\n        \"dtype\": \"number\",\n        \"std\": 0.45027226706999707,\n        \"min\": -0.040345132905899465,\n        \"max\": 1.0,\n        \"num_unique_values\": 5,\n        \"samples\": [\n          0.008130351027868769,\n          0.009701984507702906,\n          -0.040345132905899465\n        ],\n        \"semantic_type\": \"\",\n        \"description\": \"\"\n      }\n    },\n    {\n      \"column\": \"Bedrooms\",\n      \"properties\": {\n        \"dtype\": \"number\",\n        \"std\": 0.4433403605639907,\n        \"min\": -0.023522404657506702,\n        \"max\": 1.0,\n        \"num_unique_values\": 5,\n        \"samples\": [\n          1.0,\n          0.016307345477904026,\n          0.03876008727426323\n        ],\n        \"semantic_type\": \"\",\n        \"description\": \"\"\n      }\n    },\n    {\n      \"column\": \"Bathrooms\",\n      \"properties\": {\n        \"dtype\": \"number\",\n        \"std\": 0.45125414306662126,\n        \"min\": -0.04153577960319818,\n        \"max\": 1.0,\n        \"num_unique_values\": 5,\n        \"samples\": [\n          0.03876008727426323,\n          0.019645346714786568,\n          1.0\n        ],\n        \"semantic_type\": \"\",\n        \"description\": \"\"\n      }\n    },\n    {\n      \"column\": \"Neighborhood\",\n      \"properties\": {\n        \"dtype\": \"number\",\n        \"std\": 0.4574025379275134,\n        \"min\": -0.04153577960319818,\n        \"max\": 1.0,\n        \"num_unique_values\": 5,\n        \"samples\": [\n          -0.023522404657506702,\n          -0.023289658129026298,\n          -0.04153577960319818\n        ],\n        \"semantic_type\": \"\",\n        \"description\": \"\"\n      }\n    },\n    {\n      \"column\": \"YearBuilt\",\n      \"properties\": {\n        \"dtype\": \"number\",\n        \"std\": 0.4450399868561105,\n        \"min\": -0.023289658129026298,\n        \"max\": 1.0,\n        \"num_unique_values\": 5,\n        \"samples\": [\n          0.016307345477904026,\n          1.0,\n          0.019645346714786568\n        ],\n        \"semantic_type\": \"\",\n        \"description\": \"\"\n      }\n    }\n  ]\n}"
            }
          },
          "metadata": {},
          "execution_count": 25
        }
      ]
    },
    {
      "cell_type": "code",
      "source": [
        "# using heatmaps to find corelations\n",
        "import seaborn as sns\n",
        "sns.heatmap(house_corr, cmap = 'YlGnBu')\n"
      ],
      "metadata": {
        "colab": {
          "base_uri": "https://localhost:8080/",
          "height": 537
        },
        "id": "6y8EGPFfze1c",
        "outputId": "f7640e6c-e7ef-4c86-89b2-024dfd4cc598"
      },
      "execution_count": 26,
      "outputs": [
        {
          "output_type": "execute_result",
          "data": {
            "text/plain": [
              "<Axes: >"
            ]
          },
          "metadata": {},
          "execution_count": 26
        },
        {
          "output_type": "display_data",
          "data": {
            "text/plain": [
              "<Figure size 640x480 with 2 Axes>"
            ],
            "image/png": "[encoded data removed]"
          },
          "metadata": {}
        }
      ]
    },
    {
      "cell_type": "code",
      "source": [
        "# As we can see from the above heatmap, there are no features that are highly corelated.\n",
        "# So, we don't have to drop any features here.\n",
        "# If there was we would use the below code:\n",
        "# house = house.drop('Dropped_column_name' , axis=1)"
      ],
      "metadata": {
        "id": "qnkantcDzh-V"
      },
      "execution_count": 27,
      "outputs": []
    },
    {
      "cell_type": "markdown",
      "source": [
        "Assignment-5 [Linear Regression]"
      ],
      "metadata": {
        "id": "JkPbm9nkM8qE"
      }
    },
    {
      "cell_type": "code",
      "source": [
        "from sklearn.linear_model import LinearRegression\n",
        "clf = LinearRegression()\n",
        "clf.fit(X_train_scaled, y_train)\n",
        "yPrediction = clf.predict(X_test_scaled)\n",
        "yPrediction\n",
        "\n"
      ],
      "metadata": {
        "colab": {
          "base_uri": "https://localhost:8080/"
        },
        "collapsed": true,
        "id": "rcHvrPWkQZ2l",
        "outputId": "c2ef9672-60e2-4323-f19d-6dc7d9879980"
      },
      "execution_count": 49,
      "outputs": [
        {
          "output_type": "execute_result",
          "data": {
            "text/plain": [
              "array([284244.11614822, 231142.09591278, 195341.26637876, 271547.80815468,\n",
              "       198393.86648816, 283121.15792326, 197549.05010367, 199943.38665032,\n",
              "       146942.62792038, 207786.67764552, 264980.44086686, 229323.63165647,\n",
              "       175823.51804041, 294631.47812813, 172932.42861471, 323044.5973633 ,\n",
              "       170740.0290513 , 150979.8182134 , 299413.162023  , 267988.57097818,\n",
              "       146530.73113504, 214405.51032176, 309080.92168119, 217221.15523464,\n",
              "       178520.50968481, 158849.85420826, 249889.88598577, 175487.26416612,\n",
              "       255718.29542141, 191234.69717841, 237454.81768632, 153165.85361654,\n",
              "       231726.44725306, 135358.01840994, 268740.50225137, 232891.44835953,\n",
              "       242256.95319073, 232859.53637498, 197323.1732602 , 220980.81696807,\n",
              "       168137.53666048, 144141.68711709, 278076.07124247, 207295.37340522,\n",
              "       268980.10027855, 286111.85331474, 236234.44597381, 312097.41367648,\n",
              "       183688.90755327, 270486.53587419, 230744.48133123, 291470.31576338,\n",
              "       166365.05638801, 259124.14614945, 215863.80835043, 161957.61873198,\n",
              "       273384.75568322, 152527.70847686, 220975.04164117, 208158.14907108,\n",
              "       128680.62828634, 148738.12078109, 307463.548668  , 135384.15012872,\n",
              "       198706.73007142, 193328.78348914, 191675.12435247, 310855.27362238,\n",
              "       325572.63258123, 151660.85972604, 305747.97737533, 176744.37729345,\n",
              "       246335.18212441, 268744.4702409 , 184650.872218  , 245779.92869126,\n",
              "       196831.7453556 , 217333.79645358, 223615.73508747, 217040.73781347,\n",
              "       309415.42355193, 243396.37402716, 310483.05105468, 304937.84440923,\n",
              "       224952.52926584, 258478.87857571, 158329.46907025, 180098.28045456,\n",
              "       134874.83985582, 159025.77663868, 261920.54650593, 284312.94391323,\n",
              "       300551.52078555, 299235.88453613, 251528.86883979, 260622.40217603,\n",
              "       186091.3673954 , 300986.51694998, 150733.06785457, 185860.9009632 ,\n",
              "       221407.46268572, 236066.16404067, 269003.38947328, 176114.52232784,\n",
              "       220359.483696  , 206694.68743696, 274036.15433833, 178655.65895027,\n",
              "       193201.30461855, 250037.72124824, 154684.36192832, 199860.9885595 ,\n",
              "       191774.52812565, 137602.02486675, 273114.71612968, 237663.4965326 ,\n",
              "       210416.5208788 , 280639.82350604, 123970.62675108, 207381.76387355,\n",
              "       272195.82365451, 163033.92591784, 202817.86197331, 168621.17050591,\n",
              "       226815.45208304, 196430.19772948, 230151.21821768, 132693.99744453,\n",
              "       300825.17257415, 169318.60691925, 137127.01537059, 255829.3843302 ,\n",
              "       306397.12327951, 306452.77481122, 196728.81806669, 149616.94703038,\n",
              "       216438.92949863, 221613.24211468, 247630.55657991, 283317.5149538 ,\n",
              "       180600.71838172, 314995.30617768, 260557.58072494, 187761.40661612,\n",
              "       236281.74861819, 208117.24491224, 309599.58326228, 193129.51622376,\n",
              "       183773.13648922, 150094.72796038, 258808.25516538, 155846.45529915,\n",
              "       168551.31993118, 170492.5374281 , 231465.251762  , 135867.71720313,\n",
              "       179607.26857713, 207789.58200172, 261429.62584704, 282334.4486337 ,\n",
              "       211111.21586437, 307270.1627647 , 252837.6278046 , 262522.32793358,\n",
              "       136594.1235401 , 301792.10946926, 269203.09965301, 253802.46344001,\n",
              "       304747.36286213, 148132.79976805, 305072.77396148, 304592.72296471,\n",
              "       160446.65476008, 233064.38171354, 149818.85124779, 205747.50509006,\n",
              "       314376.26648013, 174921.23966795, 153166.3593028 , 274195.95228264,\n",
              "       215350.3103748 , 172834.5313892 , 221376.68942383, 280925.54957022,\n",
              "       173839.18066295, 286165.11173507, 186238.47996238, 238244.91013116,\n",
              "       295050.02743749, 276499.75662546, 294509.74119892, 224647.57227524,\n",
              "       159079.85547138, 320712.93399255, 162496.83639835, 212636.92382971,\n",
              "       238558.82591054, 267921.46339064, 237820.49027724, 285664.06017923,\n",
              "       193224.66552318, 283378.94337185, 191125.58347431, 237816.57518186,\n",
              "       218936.27617488, 143082.92718457, 190228.43038292, 256461.3272983 ,\n",
              "       208370.4834157 , 226061.67914721, 130051.65802986, 188695.94622927,\n",
              "       192813.3755204 , 157900.98262972, 143796.95481255, 193552.42953   ,\n",
              "       311793.84799608, 233422.17771788, 176114.08185316, 269872.04650122,\n",
              "       304870.80947137, 127407.64819931, 188487.85221724, 239645.37002853,\n",
              "       132338.62205844, 227458.97909044, 212304.6144372 , 146900.01102213,\n",
              "       171028.36362088, 177734.01516958, 249737.99895332, 263139.16127601,\n",
              "       155781.47741794, 262238.65841486, 187890.8473257 , 144180.21392096,\n",
              "       286931.9891943 , 249609.42956222, 150317.08716677, 295980.76848789,\n",
              "       259269.75060931, 299720.33993846, 308201.48864934, 156524.5027965 ,\n",
              "       155392.44142319, 286501.91705809, 210451.14896337, 191978.90829513,\n",
              "       162484.34671529, 194864.61585311, 306777.70617174, 319191.18907786,\n",
              "       295352.17035067, 144517.6201479 , 173380.10427783, 227366.15425186,\n",
              "       134794.28004821, 255859.90006567, 234572.33129494, 302787.66209298,\n",
              "       203831.37231897, 222059.78893289, 269566.16529798, 157612.09817085,\n",
              "       167177.99261401, 211300.57350545, 285347.7237816 , 138042.81273416,\n",
              "       286632.22113689, 153129.94025695, 184761.20348633, 285100.83894096,\n",
              "       167522.69803136, 168259.87543336, 284564.95247549, 195025.15906091,\n",
              "       198991.26389911, 266460.15990947, 257633.2610232 , 160352.90820806,\n",
              "       135849.32265024, 159522.88959139, 147103.5880951 , 171741.39532631,\n",
              "       221766.25799203, 139145.90324407, 224047.92549279, 135669.61216816,\n",
              "       161619.11210677, 175813.86594252, 184966.62872026, 152077.8697219 ,\n",
              "       213208.43274284, 223337.07612353, 215350.20433962, 308296.00985124,\n",
              "       158106.60261816, 211584.87331448, 122896.47771818, 173321.17068714,\n",
              "       226293.87532823, 212901.29409154, 310777.2988124 , 241790.72447397,\n",
              "       176539.11992684, 131239.36999513, 248145.21184708, 242392.50096274,\n",
              "       238431.54829279, 144032.02940234, 182627.406193  , 201982.04608143,\n",
              "       293336.81155148, 258299.2024189 , 195980.8980463 , 286215.63460629,\n",
              "       268741.08708562, 301352.93080527, 138028.84832949, 321165.73987562,\n",
              "       164783.63505881, 279665.8528962 , 283408.5976666 , 273263.08552504,\n",
              "       228156.3209058 , 170421.11259491, 248227.68658669, 121647.40998453,\n",
              "       270243.53274343, 161817.62667058, 228226.29452514, 117279.62797728,\n",
              "       221457.40566157, 152808.73116579, 230251.53606144, 251015.04656672,\n",
              "       147611.16767942, 282046.6043004 , 181834.95340261, 277432.09388263,\n",
              "       173105.93042688, 165319.53140205, 293291.22258625, 243418.56776249,\n",
              "       326963.5055923 , 139575.89717205, 291804.84946018, 284891.49147998,\n",
              "       240700.6741561 , 284897.29031463, 321064.33645023, 206049.57629333,\n",
              "       143383.94619173, 265269.99793956, 310749.25216163, 163952.01529649,\n",
              "       183496.06815982, 191445.83002845, 219087.53291702, 183057.57786606,\n",
              "       223699.18781409, 202323.51239667, 212580.56379945, 233128.07431973,\n",
              "       232758.87421396, 158926.86648121, 286963.9246866 , 244027.89353001,\n",
              "       223090.70346748, 282141.80399476, 200849.21448593, 155366.20460899,\n",
              "       150569.19188644, 247544.53731603, 222345.97522728, 275672.62041668,\n",
              "       225122.55332476, 219546.60280382, 181507.82956387, 156694.07000466,\n",
              "       237810.38288804, 285133.39265303, 308685.52708474, 252418.62908256,\n",
              "       225669.87327806, 233389.84814671, 307016.68104028, 317323.42996304,\n",
              "       135665.70695054, 263615.21089774, 155114.40067901, 237869.29946931,\n",
              "       159955.260241  , 259829.01035637, 234868.23151936, 213669.80608192,\n",
              "       305377.79278423, 316775.21024462, 247917.24856056, 228800.67934785,\n",
              "       142696.86975514, 246492.91713342, 270069.57070105, 308196.83722847,\n",
              "       157142.8973871 , 154011.82729256, 298293.27696132, 194072.19644824,\n",
              "       286740.98558485, 303368.40213796, 304030.69984158, 214704.5590631 ,\n",
              "       294634.28726668, 185645.80662196, 135019.44995259, 258280.49693427,\n",
              "       240466.82456863, 274568.56892919, 243856.76907282, 149483.78805056,\n",
              "       282960.77608446, 124634.89773091, 178809.87788164, 215970.40226846,\n",
              "       245755.04392311, 241681.24814804, 133295.97362669, 221851.59876345,\n",
              "       226082.74247819, 284455.66752463, 197104.0824828 , 155408.89909577,\n",
              "       240980.07438441, 276993.02619269, 266785.54162243, 287008.255264  ,\n",
              "       239330.76431948, 232127.96149367, 169260.04947188, 195758.79193863,\n",
              "       241127.83699722, 245651.32591465, 178669.85149496, 147875.65604697,\n",
              "       184508.03269366, 202089.1286763 , 223610.08774406, 277291.03974735,\n",
              "       202313.32616589, 193194.63352566, 241704.1930255 , 140118.50943089,\n",
              "       264857.19645022, 165750.17199641, 191763.75212175, 315721.88626062,\n",
              "       196233.94085548, 322662.41670485, 292383.26410456, 223817.53664914,\n",
              "       267352.60130729, 275858.02863711, 288681.34164105, 225302.29069403,\n",
              "       131850.82053009, 277172.66402511, 182584.84462858, 154341.78871648,\n",
              "       203355.77798857, 258925.08601555, 195638.70253724, 177824.51304813,\n",
              "       245715.24172198, 154680.87429731, 169007.42918819, 172303.19030942,\n",
              "       279638.13548176, 266149.56051434, 278146.69490764, 188769.32431885,\n",
              "       293414.63487022, 293642.79291125, 294424.40692583, 251178.49569017,\n",
              "       248192.89713312, 129420.8837905 , 164787.05653848, 223064.85917269,\n",
              "       127487.26897766, 167820.36232987, 316544.27489111, 245969.47614798,\n",
              "       209645.20068962, 152314.96798284, 230933.2825847 , 305043.12460561,\n",
              "       127574.2792252 , 258707.28207261, 186016.74235519, 234451.21658462,\n",
              "       150800.01407311, 255869.80968997, 235996.80214277, 160179.35169541,\n",
              "       268166.02127124, 197345.20900596, 198438.77540148, 270651.27822193,\n",
              "       138276.68426995, 273374.0065665 , 212486.67782674, 159805.55486925,\n",
              "       166377.01813008, 179013.64970912, 234071.87351135, 190165.28428659,\n",
              "       271972.78439622, 181798.0391816 , 323484.28327299, 236563.47824622,\n",
              "       207488.7528102 , 222607.69771957, 232999.3370613 , 232568.88134369,\n",
              "       314445.25561414, 210977.94465746, 221192.94668041, 274208.99247468,\n",
              "       288769.79660412, 190458.33548862, 162178.16410268, 223773.68980969,\n",
              "       152627.79818059, 227401.54061022, 276549.69466243, 135607.57790731,\n",
              "       123893.64136532, 290169.31747221, 292460.57029983, 249008.77853892,\n",
              "       265969.08775935, 311814.2328346 , 303836.05061155, 271677.66438025,\n",
              "       205250.32536633, 248658.37044434, 185301.13552987, 178828.74379551,\n",
              "       207142.08856424, 210931.41172407, 140770.03606949, 224490.62179387,\n",
              "       292000.01087479, 228834.46300112, 131486.41126588, 247611.74599986,\n",
              "       303254.64195187, 246979.67504827, 286986.57865214, 262623.28100653,\n",
              "       203453.09037982, 274005.9495346 , 223227.80105044, 199444.39215113,\n",
              "       199057.56501069, 139392.94451483, 239951.4524846 , 174426.28580795,\n",
              "       137199.31501022, 124959.13916175, 254366.58938228, 306715.52261243,\n",
              "       212873.38192258, 302672.73967648, 177935.46747511, 239660.30877647,\n",
              "       283480.80702744, 228123.24513138, 298533.18342105, 294260.02371199,\n",
              "       296362.47684559, 137884.88489913, 163817.22022605, 238987.32378828,\n",
              "       289677.98972416, 255304.22566647, 222724.8345626 , 308432.97295239,\n",
              "       299705.5406112 , 264863.90586751, 148214.51192832, 260139.57636599,\n",
              "       282434.63199565, 288680.17447175, 208875.98669902, 267217.22634149,\n",
              "       206592.18855218, 299289.13895735, 280633.74931794, 234569.53697304,\n",
              "       300979.84679684, 133789.59245006, 210660.04607191, 222100.87083683,\n",
              "       136573.12048182, 316677.90279224, 135984.15604507, 287350.6386602 ,\n",
              "       307424.35818831, 149230.1050733 , 251369.48292353, 131748.54578621,\n",
              "       166714.43423478, 278475.26996024, 225987.27730814, 197935.38143561,\n",
              "       140530.16299527, 207504.53105056, 208649.62611759, 258775.83593512,\n",
              "       299170.73384872, 274597.08788071, 225149.9882541 , 233624.6985956 ,\n",
              "       137517.39847251, 289277.81510367, 258504.53305486, 285371.21516891,\n",
              "       181884.48035129, 187668.01425912, 287569.63328018, 191990.91424024,\n",
              "       253973.79408893, 222925.68008557, 305111.00684303, 154329.33735782,\n",
              "       210291.0580365 , 221040.57003136, 145407.2224011 , 124235.73827728,\n",
              "       129167.06139255, 151396.68229024, 302247.69172504, 232092.25432579,\n",
              "       139082.27834867, 213384.76006965, 280119.89365935, 308880.13799037,\n",
              "       266398.12070974, 297150.41113747, 185323.82288092, 307859.55560558,\n",
              "       201163.41674955, 206761.08220675, 254372.36470918, 214421.31638907,\n",
              "       281402.9129136 , 281448.17758139, 246755.08997815, 126137.3100032 ,\n",
              "       152009.94760065, 270807.30449067, 262862.47558828, 222882.31204519,\n",
              "       191366.81603266, 242890.15298722, 189720.53492798, 245335.72584251,\n",
              "       134601.27772631, 141964.07481039, 314024.31257372, 166101.59576906,\n",
              "       317060.03211599, 261689.74069535, 199342.05957423, 237265.27022961,\n",
              "       172190.04340422, 311806.33767914, 296033.09531704, 187919.56259118,\n",
              "       133999.46941147, 319800.42518629, 196205.31680855, 155227.58096972,\n",
              "       281237.76154821, 166722.37359327, 130896.50779986, 252486.18702253,\n",
              "       156994.22564259, 213970.78676468, 256886.35887365, 291069.27382351,\n",
              "       140376.39441634, 276526.59034446])"
            ]
          },
          "metadata": {},
          "execution_count": 49
        }
      ]
    },
    {
      "cell_type": "code",
      "source": [
        "from sklearn.metrics import mean_squared_error\n",
        "\n",
        "\n",
        "rmse = mean_squared_error(y_test, yPrediction, squared=False)\n",
        "\n",
        "mean_y_test = np.mean(y_test)\n",
        "\n",
        "\n",
        "percentage_error = (rmse / mean_y_test) * 100\n",
        "print(\"Accuracy Percentage(RMSE%):\", 100-percentage_error)\n"
      ],
      "metadata": {
        "colab": {
          "base_uri": "https://localhost:8080/"
        },
        "id": "ZToZ21HeRYbi",
        "outputId": "b743cee6-edc5-4fcb-d515-d32e4f60a714"
      },
      "execution_count": 50,
      "outputs": [
        {
          "output_type": "stream",
          "name": "stdout",
          "text": [
            "Accuracy Percentage(RMSE%): 78.04104074792923\n"
          ]
        }
      ]
    },
    {
      "cell_type": "code",
      "source": [
        "import matplotlib.pyplot as plt\n",
        "\n",
        "# Plotting actual vs predicted values\n",
        "plt.scatter(y_test, yPrediction, color='blue', label='Predicted vs Actual')\n",
        "plt.plot([min(y_test), max(y_test)], [min(y_test), max(y_test)], color='red', label='Ideal Fit Line')  # Line for perfect prediction\n",
        "plt.xlabel('Actual Price')\n",
        "plt.ylabel('Predicted Price')\n",
        "plt.legend()\n",
        "plt.show()\n"
      ],
      "metadata": {
        "colab": {
          "base_uri": "https://localhost:8080/",
          "height": 449
        },
        "id": "zaGs8CeBT1fC",
        "outputId": "cc73f0c2-fd89-418d-9cab-2735d114e857"
      },
      "execution_count": 51,
      "outputs": [
        {
          "output_type": "display_data",
          "data": {
            "text/plain": [
              "<Figure size 640x480 with 1 Axes>"
            ],
            "image/png": "[encoded data removed]"
          },
          "metadata": {}
        }
      ]
    },
    {
      "cell_type": "code",
      "source": [
        "import matplotlib.pyplot as plt\n",
        "import seaborn as sns\n",
        "from sklearn.linear_model import LogisticRegression\n",
        "from sklearn.metrics import classification_report\n",
        "from sklearn.metrics import accuracy_score\n",
        "from sklearn.model_selection import train_test_split"
      ],
      "metadata": {
        "id": "I_2Hit6oXV-o"
      },
      "execution_count": 52,
      "outputs": []
    },
    {
      "cell_type": "code",
      "source": [
        "\n",
        "average_price = house['Price'].mean()\n",
        "\n",
        "house['PriceCategory'] = np.where(house['Price'] < average_price, 0, 1)\n",
        "print(house[['Price', 'PriceCategory']].head())"
      ],
      "metadata": {
        "colab": {
          "base_uri": "https://localhost:8080/"
        },
        "id": "RZ-qiHkYYfaO",
        "outputId": "e12c3ee0-ead1-47ec-8bc4-57d1ee7ed008"
      },
      "execution_count": 53,
      "outputs": [
        {
          "output_type": "stream",
          "name": "stdout",
          "text": [
            "         Price  PriceCategory\n",
            "0  215355.2836              0\n",
            "1  195014.2216              0\n",
            "2  306891.0121              1\n",
            "3  206786.7872              0\n",
            "4  272436.2391              1\n"
          ]
        }
      ]
    },
    {
      "cell_type": "code",
      "source": [
        "# Checking for biasness\n",
        "import matplotlib.pyplot as plt\n",
        "\n",
        "\n",
        "fig, ax = plt.subplots()\n",
        "ax.hist(house['PriceCategory'], bins=np.arange(-0.5, 2, 1), edgecolor='black')\n",
        "ax.set_title('Frequency of Price Categories')\n",
        "ax.set_xlabel('Price Category (0 = Below Average, 1 = Above Average)')\n",
        "ax.set_ylabel('Number of Houses')\n",
        "\n",
        "\n",
        "plt.xticks([0, 1])\n",
        "plt.grid(axis='y')\n",
        "plt.show()"
      ],
      "metadata": {
        "colab": {
          "base_uri": "https://localhost:8080/",
          "height": 472
        },
        "id": "4GbOLM6-viL0",
        "outputId": "5ca3cbe9-f183-4abc-ef31-d0318b367a0d"
      },
      "execution_count": 54,
      "outputs": [
        {
          "output_type": "display_data",
          "data": {
            "text/plain": [
              "<Figure size 640x480 with 1 Axes>"
            ],
            "image/png": "[encoded data removed]"
          },
          "metadata": {}
        }
      ]
    },
    {
      "cell_type": "code",
      "source": [
        "\n",
        "target_class = house['PriceCategory']\n",
        "X_train, X_test, y_train_class, y_test_class = train_test_split(data, target_class, test_size=0.2, random_state=1)\n",
        "\n",
        "#fit the Logistic Regression model\n",
        "model = LogisticRegression()\n",
        "model.fit(X_train_scaled, y_train_class)\n",
        "\n",
        "# Make predictions\n",
        "predictions = model.predict(X_test_scaled)\n",
        "print(predictions)\n",
        "\n",
        "\n"
      ],
      "metadata": {
        "colab": {
          "base_uri": "https://localhost:8080/"
        },
        "id": "DxDfXjvCXZlL",
        "outputId": "6ecc16ec-200c-4f6c-8d85-2668ca1f2c97"
      },
      "execution_count": 55,
      "outputs": [
        {
          "output_type": "stream",
          "name": "stdout",
          "text": [
            "[1 1 0 1 0 1 0 0 0 0 1 1 0 1 0 1 0 0 1 1 0 0 1 0 0 0 1 0 1 0 1 0 1 0 1 1 1\n",
            " 1 0 0 0 0 1 0 1 1 1 1 0 1 1 1 0 1 0 0 1 0 0 0 0 0 1 0 0 0 0 1 1 0 1 0 1 1\n",
            " 0 1 0 0 0 0 1 1 1 1 1 1 0 0 0 0 1 1 1 1 1 1 0 1 0 0 0 1 1 0 0 0 1 0 0 1 0\n",
            " 0 0 0 1 1 0 1 0 0 1 0 0 0 1 0 1 0 1 0 0 1 1 1 0 0 0 0 1 1 0 1 1 0 1 0 1 0\n",
            " 0 0 1 0 0 0 1 0 0 0 1 1 0 1 1 1 0 1 1 1 1 0 1 1 0 1 0 0 1 0 0 1 0 0 0 1 0\n",
            " 1 0 1 1 1 1 1 0 1 0 0 1 1 1 1 0 1 0 1 0 0 0 1 0 1 0 0 0 0 0 0 1 1 0 1 1 0\n",
            " 0 1 0 1 0 0 0 0 1 1 0 1 0 0 1 1 0 1 1 1 1 0 0 1 0 0 0 0 1 1 1 0 0 0 0 1 1\n",
            " 1 0 1 1 0 0 0 1 0 1 0 0 1 0 0 1 0 0 1 1 0 0 0 0 0 0 0 0 0 0 0 0 0 0 0 0 1\n",
            " 0 0 0 0 1 0 1 1 0 0 1 1 1 0 0 0 1 1 0 1 1 1 0 1 0 1 1 1 1 0 1 0 1 0 1 0 0\n",
            " 0 1 1 0 1 0 1 0 0 1 1 1 0 1 1 1 1 1 0 0 1 1 0 0 0 0 0 1 0 0 1 1 0 1 1 0 1\n",
            " 0 0 0 1 1 1 1 0 0 0 1 1 1 1 1 1 1 1 0 1 0 1 0 1 1 0 1 1 1 1 0 1 1 1 0 0 1\n",
            " 0 1 1 1 0 1 0 0 1 1 1 1 0 1 0 0 0 1 1 0 1 1 1 0 0 1 1 1 1 1 1 0 0 1 1 0 0\n",
            " 0 0 1 1 0 0 1 0 1 0 0 1 0 1 1 0 1 1 1 1 0 1 0 0 0 1 0 0 1 0 0 0 1 1 1 0 1\n",
            " 1 1 1 1 0 0 0 0 0 1 1 0 0 1 1 0 1 0 1 0 1 1 0 1 0 0 1 0 1 0 0 0 0 1 0 1 0\n",
            " 1 1 0 0 1 1 1 0 1 1 1 0 0 0 0 1 1 0 0 1 1 1 1 1 1 1 0 1 0 0 0 0 0 0 1 1 0\n",
            " 1 1 1 1 1 0 1 0 0 0 0 1 0 0 0 1 1 0 1 0 1 1 1 1 1 1 0 0 1 1 1 1 1 1 1 0 1\n",
            " 1 1 0 1 0 1 1 1 1 0 0 1 0 1 0 1 1 0 1 0 0 1 1 0 0 0 0 1 1 1 0 1 0 1 1 1 0\n",
            " 0 1 0 1 0 1 0 0 0 0 0 0 0 1 1 0 0 1 1 1 1 0 1 0 0 1 0 1 1 1 0 0 1 1 1 0 1\n",
            " 0 1 0 0 1 0 1 1 0 1 0 1 1 0 0 1 0 0 1 0 0 1 0 0 1 1 0 1]\n"
          ]
        }
      ]
    },
    {
      "cell_type": "code",
      "source": [
        "from sklearn.metrics import accuracy_score\n",
        "accuracy = accuracy_score(y_test_class, predictions)\n",
        "accuracy_percentage = accuracy * 100\n",
        "print(\"Accuracy Percentage: {:.2f}%\".format(accuracy_percentage))"
      ],
      "metadata": {
        "colab": {
          "base_uri": "https://localhost:8080/"
        },
        "id": "ebiHn2mDaZst",
        "outputId": "1931f3cf-ced6-4037-f160-f43ea31757dc"
      },
      "execution_count": 42,
      "outputs": [
        {
          "output_type": "stream",
          "name": "stdout",
          "text": [
            "Accuracy Percentage: 80.55%\n"
          ]
        }
      ]
    }
  ]
}